{
 "cells": [
  {
   "cell_type": "markdown",
   "metadata": {},
   "source": [
    "# Spain Wage Structure Survey\n",
    "\n",
    "The data presented here has been retrieved from the periodical INE survey about Spain's population wage structure:\n",
    "https://www.ine.es/dyngs/INEbase/en/operacion.htm?c=Estadistica_C&cid=1254736177025&menu=ultiDatos&idp=1254735976596\n",
    "\n",
    "Information about each variable can be found in the dr_EES_2014.xlsx file.\n"
   ]
  },
  {
   "cell_type": "code",
   "execution_count": null,
   "metadata": {},
   "outputs": [],
   "source": [
    "salary <- read.csv(\"Data/salario.csv\")\n",
    "head(salary)\n",
    "dim(salary)"
   ]
  },
  {
   "cell_type": "code",
   "execution_count": null,
   "metadata": {},
   "outputs": [],
   "source": [
    "library(ggplot2)\n",
    "\n",
    "# default plots size\n",
    "options(repr.plot.width = 20, repr.plot.height = 10, repr.plot.res = 100)\n",
    "\n",
    "# default theme and font size\n",
    "theme_set(theme_bw(base_size = 24))\n",
    "\n",
    "\n",
    "\n",
    "ggplot(salary, aes(x=SALBRUTO)) + geom_density(fill=\"darkorange\", color=\"black\")"
   ]
  },
  {
   "cell_type": "code",
   "execution_count": null,
   "metadata": {},
   "outputs": [],
   "source": [
    "ggplot(salary, aes(x=log(SALBRUTO))) + geom_density(fill=\"darkorange\", color=\"black\")"
   ]
  },
  {
   "cell_type": "code",
   "execution_count": null,
   "metadata": {},
   "outputs": [],
   "source": [
    "ggplot(salary, aes(x=log(SALBRUTO))) + geom_density(aes(fill=SEXO),  color=\"black\", alpha=0.5)"
   ]
  },
  {
   "cell_type": "code",
   "execution_count": null,
   "metadata": {},
   "outputs": [],
   "source": [
    "# How different are wages, on average? Remember aggregate?\n",
    "aggregate(salary$SALBRUTO, by=list(salary$SEXO), mean)"
   ]
  },
  {
   "cell_type": "code",
   "execution_count": null,
   "metadata": {},
   "outputs": [],
   "source": [
    "# A0\tDIRECTORES Y GERENTES\n",
    "# B0\tTÉCNICOS Y PROFESIONALES CIENTÍFICOS E INTELECTUALES DE LA SALUD Y LA ENSEÑANZA\n",
    "# C0\tOTROS TÉCNICOS Y PROFESIONALES CIENTÍFICOS E INTELECTUALES\n",
    "# D0\tTÉCNICOS; PROFESIONALES DE APOYO\n",
    "# E0\tEMPLEADOS DE OFICINA QUE NO ATIENDEN AL PÚBLICO\n",
    "# F0\tEMPLEADOS DE OFICINA QUE ATIENDEN AL PÚBLICO\n",
    "# G0\tTRABAJADORES DE LOS SERVICIOS DE RESTAURACION Y COMERCIO\n",
    "# H0\tTRABAJADORES DE LOS SERVICIOS DE SALUD Y EL CUIDADO DE PERSONAS\n",
    "# I0\tTRABAJADORES DE LOS SERVICOS DE PROTECCION Y SEGURIDAD\n",
    "# J0\tTRABAJADORES CUALIFICADOS EN EL SECTOR AGRÍCOLA, GANADERO, FORESTAL Y PESQUERO\n",
    "# K0\tTRABAJADORES CUALIFICADOS DE LA CONSTRUCCION, EXCEPTO LOS OPERADORES DE MÁQUINAS\n",
    "# L0\tTRABAJADORES CUALIFICADOS DE LAS INDUSTRIAS MANUFACTURERAS, EXCEPTO OPERADORES DE INSTALACIONES Y MÁQUINAS\n",
    "# M0\tOPERADORES DE INSTALACIONES Y MAQUINARIA FIJAS, Y MONTADORES\n",
    "# N0\tCONDUCTORES Y OPERADORES DE MAQUINARIA MOVIL\n",
    "# O0\tTRABAJADORES NO CUALIFICADOS EN SERVICIOS\n",
    "# P0\tPEONES DE LA AGRICULTURA, PESCA, CONSTRUCCIÓN, INDUSTRIAS MANUFACTURERAS Y TRANSPORTES\n",
    "# Q0\tOCUPACIONES MILITARES\n",
    "\n",
    "# How different are wages by position?\n",
    "aggregate(salary$SALBRUTO, by=list(salary$CNO1), mean)"
   ]
  },
  {
   "cell_type": "code",
   "execution_count": null,
   "metadata": {},
   "outputs": [],
   "source": [
    "# Boxplots by positions\n",
    "ggplot(salary, aes(y=log(SALBRUTO))) + geom_boxplot(aes(fill=CNO1))"
   ]
  },
  {
   "cell_type": "code",
   "execution_count": null,
   "metadata": {},
   "outputs": [],
   "source": [
    "# Let's compare wages between sexes depending on position\n",
    "means <- aggregate((salary$SALBRUTO), by=list(salary$SEXO, salary$CNO1), mean)\n",
    "sds <- aggregate((salary$SALBRUTO), by=list(salary$SEXO, salary$CNO1), sd)\n",
    "\n",
    "head(means)\n",
    "head(sds)\n",
    "\n",
    "sex_positions <- data.frame(SEXO=means$`Group.1`, Position=means$`Group.2`,   mean=means$x, sd=sds$x)\n",
    "sex_positions"
   ]
  },
  {
   "cell_type": "markdown",
   "metadata": {},
   "source": [
    "## Facets\n",
    "\n",
    "Facets allow you to create multiple plot based on factors."
   ]
  },
  {
   "cell_type": "code",
   "execution_count": null,
   "metadata": {},
   "outputs": [],
   "source": [
    "means <- aggregate((salary$SALBRUTO), by=list(salary$SEXO, salary$CNO1), mean)\n",
    "sds <- aggregate((salary$SALBRUTO), by=list(salary$SEXO, salary$CNO1), sd)\n",
    "\n",
    "sex_positions <- data.frame(SEXO=means$`Group.1`, Position=means$`Group.2`,   mean=means$x, sd=sds$x)\n",
    "\n",
    "\n",
    "options(repr.plot.width = 20, repr.plot.height = 20, repr.plot.res = 100)\n",
    "\n",
    "\n",
    "# Let's compare wages between sexes depending on position\n",
    "#ggplot(sex_positions, aes(x=Position, y=mean)) + geom_point(aes(color=SEXO), size=5)\n",
    "#ggplot(sex_positions, aes(x=Position, y=mean)) + geom_point(aes(x=SEXO, color=SEXO), size=5) + facet_wrap(Position~.)\n",
    "ggplot(sex_positions, aes(x=Position, y=mean)) + \n",
    "    geom_errorbar(aes(x=SEXO, ymin=mean-sd, ymax=mean+sd), width=0) + \n",
    "    geom_point(aes(x=SEXO, color=SEXO), size=5) +     \n",
    "    facet_wrap(Position~., scales = \"free_y\")"
   ]
  },
  {
   "cell_type": "markdown",
   "metadata": {},
   "source": [
    "## grid.arrange and cheating with data\n",
    "\n",
    "In previous classes we saw that you can use the par() function to arrange several different plot on the same page. With ggplot you need to use gridArrange, from the gridExtra package."
   ]
  },
  {
   "cell_type": "code",
   "execution_count": null,
   "metadata": {},
   "outputs": [],
   "source": [
    "library(ggplot2)\n",
    "library(gridExtra)\n",
    "\n",
    "# default plots size\n",
    "options(repr.plot.width = 20, repr.plot.height = 10, repr.plot.res = 100)\n",
    "\n",
    "# default theme and font size\n",
    "theme_set(theme_bw(base_size = 24))\n",
    "\n",
    "\n",
    "# Let's compare wages between sexes depending on studies (with the LOG salary)\n",
    "mean <- aggregate(log(salary$SALBRUTO), by=list(salary$SEXO, salary$ESTU), mean)\n",
    "sd <- aggregate(log(salary$SALBRUTO), by=list(salary$SEXO, salary$ESTU), sd)\n",
    "sex_estu_log <- data.frame(SEXO=mean$`Group.1`, ESTU=mean$`Group.2`,   mean=mean$x, sd=sd$x)\n",
    "head(sex_estu_log)\n",
    "\n",
    "# Let's compare wages between sexes depending on studies (with the NATURAL salary)\n",
    "mean <- aggregate(salary$SALBRUTO, by=list(salary$SEXO, salary$ESTU), mean)\n",
    "sd <- aggregate(salary$SALBRUTO, by=list(salary$SEXO, salary$ESTU), sd)\n",
    "sex_estu_nat <- data.frame(SEXO=mean$`Group.1`, ESTU=mean$`Group.2`,   mean=mean$x, sd=sd$x)\n",
    "head(sex_estu_nat)\n",
    "\n",
    "\n",
    "# geom_pointragne allows you to put dots and bars at the same time (for more shapes: http://www.sthda.com/english/wiki/ggplot2-point-shapes)\n",
    "p1 <- ggplot(sex_estu_log) + geom_pointrange(aes(x=ESTU, y=mean, ymin=mean-sd, ymax=mean+sd, fill=SEXO), size=1.5, shape=22, color=\"black\", position = position_dodge(width=0.3))\n",
    "p2 <- ggplot(sex_estu_nat) + geom_pointrange(aes(x=ESTU, y=mean, ymin=mean-sd, ymax=mean+sd, fill=SEXO), size=1.5, shape=24, color=\"black\", position = position_dodge(width=0.3))\n",
    "\n",
    "# plot the two graph on the same page next to each other\n",
    "grid.arrange(p1, p2, nrow=1)\n",
    "\n"
   ]
  },
  {
   "cell_type": "markdown",
   "metadata": {},
   "source": [
    "It looks like we are getting two different results depending on whether the data has been log-transformed or not. In one case, studying decreases the gender pay gap and in the other it makes it worse! What do you think is happening? Which of the two plots is more correct? Are they both wrong? *hint: try to plot the histogram each data distributions (as in the first figures) against its own mean (as a vertical line), what do you observe?*"
   ]
  }
 ],
 "metadata": {
  "kernelspec": {
   "display_name": "R",
   "language": "R",
   "name": "ir"
  },
  "language_info": {
   "codemirror_mode": "r",
   "file_extension": ".r",
   "mimetype": "text/x-r-source",
   "name": "R",
   "pygments_lexer": "r",
   "version": "4.0.2"
  }
 },
 "nbformat": 4,
 "nbformat_minor": 2
}
