{
 "cells": [
  {
   "cell_type": "markdown",
   "metadata": {},
   "source": [
    "# R - the language\n",
    "\n",
    "\n",
    "R is a programming language and **free software** environment mostly used for statistical computing.\n",
    "\n",
    "R is high-level programming language, just like Ruby and Python, but more oriented to **tables manipulation** and **statistical analysis**.\n",
    "\n",
    "Please have this **cheatsheet** at hand:\n",
    "http://github.com/rstudio/cheatsheets/raw/master/base-r.pdf\n",
    "\n",
    "If you wanna use R at home (or even during this lesson), you can use **Rstudio**:\n",
    "https://rstudio.com/\n",
    "\n",
    "with the **terminal**, you can instead simply type \"R\".\n",
    "\n",
    "Later in the class, we will use the **ggplot** package to do plotting. ggplot is part of a bigger package, **tidyverse**, which provides many more useful packages https://www.tidyverse.org/\n",
    "\n",
    "\n",
    "You can ge information about a function with the ? character:    "
   ]
  },
  {
   "cell_type": "code",
   "execution_count": 3,
   "metadata": {},
   "outputs": [],
   "source": [
    "?print"
   ]
  },
  {
   "cell_type": "code",
   "execution_count": 4,
   "metadata": {},
   "outputs": [
    {
     "name": "stdout",
     "output_type": "stream",
     "text": [
      "[1] \"Ciaooo!\"\n"
     ]
    }
   ],
   "source": [
    "print(\"Ciaooo!\")"
   ]
  },
  {
   "cell_type": "markdown",
   "metadata": {},
   "source": [
    "If you have just a vague idea about a function of which you don''t remember the same, you can search it:"
   ]
  },
  {
   "cell_type": "code",
   "execution_count": 5,
   "metadata": {},
   "outputs": [],
   "source": [
    "??select"
   ]
  },
  {
   "cell_type": "markdown",
   "metadata": {},
   "source": [
    "## Basic operations\n",
    "\n",
    "Unlike many programming languages, in R assignment to variable is done with the \"<-\" operator (but you can use also the \"=\" character):"
   ]
  },
  {
   "cell_type": "code",
   "execution_count": 6,
   "metadata": {},
   "outputs": [
    {
     "data": {
      "text/html": [
       "3"
      ],
      "text/latex": [
       "3"
      ],
      "text/markdown": [
       "3"
      ],
      "text/plain": [
       "[1] 3"
      ]
     },
     "metadata": {},
     "output_type": "display_data"
    }
   ],
   "source": [
    "x <- 3\n",
    "x"
   ]
  },
  {
   "cell_type": "markdown",
   "metadata": {},
   "source": [
    "Aritmetic operations are straightforward:"
   ]
  },
  {
   "cell_type": "code",
   "execution_count": 7,
   "metadata": {},
   "outputs": [
    {
     "data": {
      "text/html": [
       "'An addition: 5 + 5 '"
      ],
      "text/latex": [
       "'An addition: 5 + 5 '"
      ],
      "text/markdown": [
       "'An addition: 5 + 5 '"
      ],
      "text/plain": [
       "[1] \"An addition: 5 + 5 \""
      ]
     },
     "metadata": {},
     "output_type": "display_data"
    },
    {
     "data": {
      "text/html": [
       "10"
      ],
      "text/latex": [
       "10"
      ],
      "text/markdown": [
       "10"
      ],
      "text/plain": [
       "[1] 10"
      ]
     },
     "metadata": {},
     "output_type": "display_data"
    },
    {
     "data": {
      "text/html": [
       "'A subtraction, with a number expressed in scientific notation: 5 - 5e-2'"
      ],
      "text/latex": [
       "'A subtraction, with a number expressed in scientific notation: 5 - 5e-2'"
      ],
      "text/markdown": [
       "'A subtraction, with a number expressed in scientific notation: 5 - 5e-2'"
      ],
      "text/plain": [
       "[1] \"A subtraction, with a number expressed in scientific notation: 5 - 5e-2\""
      ]
     },
     "metadata": {},
     "output_type": "display_data"
    },
    {
     "data": {
      "text/html": [
       "4.95"
      ],
      "text/latex": [
       "4.95"
      ],
      "text/markdown": [
       "4.95"
      ],
      "text/plain": [
       "[1] 4.95"
      ]
     },
     "metadata": {},
     "output_type": "display_data"
    },
    {
     "data": {
      "text/html": [
       "'Exponentiation: 2^5'"
      ],
      "text/latex": [
       "'Exponentiation: 2\\textasciicircum{}5'"
      ],
      "text/markdown": [
       "'Exponentiation: 2^5'"
      ],
      "text/plain": [
       "[1] \"Exponentiation: 2^5\""
      ]
     },
     "metadata": {},
     "output_type": "display_data"
    },
    {
     "data": {
      "text/html": [
       "32"
      ],
      "text/latex": [
       "32"
      ],
      "text/markdown": [
       "32"
      ],
      "text/plain": [
       "[1] 32"
      ]
     },
     "metadata": {},
     "output_type": "display_data"
    },
    {
     "data": {
      "text/html": [
       "'Modulo: 28%%6'"
      ],
      "text/latex": [
       "'Modulo: 28\\%\\%6'"
      ],
      "text/markdown": [
       "'Modulo: 28%%6'"
      ],
      "text/plain": [
       "[1] \"Modulo: 28%%6\""
      ]
     },
     "metadata": {},
     "output_type": "display_data"
    },
    {
     "data": {
      "text/html": [
       "4"
      ],
      "text/latex": [
       "4"
      ],
      "text/markdown": [
       "4"
      ],
      "text/plain": [
       "[1] 4"
      ]
     },
     "metadata": {},
     "output_type": "display_data"
    }
   ],
   "source": [
    "\"An addition: 5 + 5 \"\n",
    "5 + 5 \n",
    "\n",
    "\"A subtraction, with a number expressed in scientific notation: 5 - 5e-2\"\n",
    "5 - 5e-2\n",
    "\n",
    "\"Exponentiation: 2^5\"\n",
    "2^5\n",
    "\n",
    "\"Modulo: 28%%6\"\n",
    "28%%6"
   ]
  },
  {
   "cell_type": "markdown",
   "metadata": {},
   "source": [
    "## Flow Control\n",
    "\n",
    "R includes all the typical programming elements like IF, FOR , WHILE.....\n",
    "\n"
   ]
  },
  {
   "cell_type": "code",
   "execution_count": 8,
   "metadata": {},
   "outputs": [
    {
     "name": "stdout",
     "output_type": "stream",
     "text": [
      "[1] \"Oooohh you are so tall\"\n"
     ]
    }
   ],
   "source": [
    "height_in_cm <- 195\n",
    "\n",
    "if (height_in_cm > 190){\n",
    "    print(\"Oooohh you are so tall\")\n",
    "} else {\n",
    "    print(\"You are ok\")\n",
    "}"
   ]
  },
  {
   "cell_type": "code",
   "execution_count": 9,
   "metadata": {},
   "outputs": [
    {
     "name": "stdout",
     "output_type": "stream",
     "text": [
      "[1] \"i is still less than 5\"\n",
      "[1] \"i is still less than 5\"\n",
      "[1] \"i is still less than 5\"\n",
      "[1] \"i is still less than 5\"\n",
      "[1] \"i is still less than 5\"\n",
      "[1] \"Finally i is 5\"\n"
     ]
    }
   ],
   "source": [
    "i <- 0\n",
    "while (i < 5){\n",
    "    print(\"i is still less than 5\")\n",
    "    i <- i + 1\n",
    "}\n",
    "print(\"Finally i is 5\")"
   ]
  },
  {
   "cell_type": "code",
   "execution_count": 10,
   "metadata": {},
   "outputs": [
    {
     "data": {
      "text/html": [
       "'x is a vector'"
      ],
      "text/latex": [
       "'x is a vector'"
      ],
      "text/markdown": [
       "'x is a vector'"
      ],
      "text/plain": [
       "[1] \"x is a vector\""
      ]
     },
     "metadata": {},
     "output_type": "display_data"
    },
    {
     "data": {
      "text/html": [
       "<style>\n",
       ".list-inline {list-style: none; margin:0; padding: 0}\n",
       ".list-inline>li {display: inline-block}\n",
       ".list-inline>li:not(:last-child)::after {content: \"\\00b7\"; padding: 0 .5ex}\n",
       "</style>\n",
       "<ol class=list-inline><li>1</li><li>2</li><li>3</li><li>4</li><li>5</li></ol>\n"
      ],
      "text/latex": [
       "\\begin{enumerate*}\n",
       "\\item 1\n",
       "\\item 2\n",
       "\\item 3\n",
       "\\item 4\n",
       "\\item 5\n",
       "\\end{enumerate*}\n"
      ],
      "text/markdown": [
       "1. 1\n",
       "2. 2\n",
       "3. 3\n",
       "4. 4\n",
       "5. 5\n",
       "\n",
       "\n"
      ],
      "text/plain": [
       "[1] 1 2 3 4 5"
      ]
     },
     "metadata": {},
     "output_type": "display_data"
    },
    {
     "name": "stdout",
     "output_type": "stream",
     "text": [
      "[1] \"i is still less than 5\"\n",
      "[1] \"i is still less than 5\"\n",
      "[1] \"i is still less than 5\"\n",
      "[1] \"i is still less than 5\"\n",
      "[1] \"i is still less than 5\"\n",
      "[1] \"Finally i is 5\"\n"
     ]
    }
   ],
   "source": [
    "### FOR loops are quite special, because they iterate over vectors (see later) and use the keyword \"in\":\n",
    "\n",
    "# x is a vector from 1 to 5\n",
    "x <- 1:5\n",
    "\n",
    "\"x is a vector\"\n",
    "x\n",
    "\n",
    "# the variable i will iterate over the vector x, you do not need to increase it manually\n",
    "for (i in x)\n",
    "    print(\"i is still less than 5\")\n",
    "\n",
    "print(\"Finally i is 5\")"
   ]
  },
  {
   "cell_type": "markdown",
   "metadata": {},
   "source": [
    "### next and break \n",
    "\n",
    "When inside a loop (for or while), the special operator **next** force to skip the currect iteration and jump to the next one, while **break** directly exits the loop"
   ]
  },
  {
   "cell_type": "code",
   "execution_count": 11,
   "metadata": {},
   "outputs": [
    {
     "name": "stdout",
     "output_type": "stream",
     "text": [
      "[1] 1\n",
      "[1] 2\n",
      "[1] 3\n",
      "[1] 5\n",
      "[1] 6\n",
      "[1] 7\n",
      "[1] 8\n"
     ]
    }
   ],
   "source": [
    "for (i in 1:10) {\n",
    "    if(i == 4) # don't write 4\n",
    "        next\n",
    "    if(i == 9) # we stop the loop at 9\n",
    "        break\n",
    "    print(i)\n",
    "}\n",
    "    "
   ]
  },
  {
   "cell_type": "markdown",
   "metadata": {},
   "source": [
    "## Functions\n",
    "\n",
    "Functions can be defined with the **function** keyword"
   ]
  },
  {
   "cell_type": "code",
   "execution_count": 12,
   "metadata": {},
   "outputs": [
    {
     "data": {
      "text/html": [
       "8"
      ],
      "text/latex": [
       "8"
      ],
      "text/markdown": [
       "8"
      ],
      "text/plain": [
       "[1] 8"
      ]
     },
     "metadata": {},
     "output_type": "display_data"
    }
   ],
   "source": [
    "func <- function(base, exponent) {\n",
    "    result <- base ^ exponent\n",
    "    return(result)\n",
    "}\n",
    "\n",
    "# call the function\n",
    "func(2, 3)\n"
   ]
  },
  {
   "cell_type": "markdown",
   "metadata": {},
   "source": [
    "## Basic data types\n",
    "\n",
    "R possesses 4 basic data types: integer, numeric, logical and characters."
   ]
  },
  {
   "cell_type": "code",
   "execution_count": 13,
   "metadata": {},
   "outputs": [
    {
     "data": {
      "text/html": [
       "FALSE"
      ],
      "text/latex": [
       "FALSE"
      ],
      "text/markdown": [
       "FALSE"
      ],
      "text/plain": [
       "[1] FALSE"
      ]
     },
     "metadata": {},
     "output_type": "display_data"
    },
    {
     "data": {
      "text/html": [
       "'logical'"
      ],
      "text/latex": [
       "'logical'"
      ],
      "text/markdown": [
       "'logical'"
      ],
      "text/plain": [
       "[1] \"logical\""
      ]
     },
     "metadata": {},
     "output_type": "display_data"
    }
   ],
   "source": [
    "# Numeric variable\n",
    "x1 <- 42\n",
    "\n",
    "# A string variable\n",
    "x2 <- \"universe\"\n",
    "\n",
    "# A logical variable\n",
    "x3 <- FALSE\n",
    "\n",
    "# Let's see what it's inside x3\n",
    "x3\n",
    "\n",
    "# you can always check a variable type with \"class\"\n",
    "class(x3)"
   ]
  },
  {
   "cell_type": "markdown",
   "metadata": {},
   "source": [
    "## Vectors\n",
    "\n",
    "Vectors are just an array of elements put into a single variable. <br>\n",
    "In R, *vectors are indexed starting from 1.* <br>\n",
    "The good thing is that R treats them similarly to algebraic vector, so you can do *vectorized* operations, which is a way to avoid loops"
   ]
  },
  {
   "cell_type": "code",
   "execution_count": 14,
   "metadata": {},
   "outputs": [
    {
     "data": {
      "text/html": [
       "'A vector of integers from 1 to 10'"
      ],
      "text/latex": [
       "'A vector of integers from 1 to 10'"
      ],
      "text/markdown": [
       "'A vector of integers from 1 to 10'"
      ],
      "text/plain": [
       "[1] \"A vector of integers from 1 to 10\""
      ]
     },
     "metadata": {},
     "output_type": "display_data"
    },
    {
     "data": {
      "text/html": [
       "<style>\n",
       ".list-inline {list-style: none; margin:0; padding: 0}\n",
       ".list-inline>li {display: inline-block}\n",
       ".list-inline>li:not(:last-child)::after {content: \"\\00b7\"; padding: 0 .5ex}\n",
       "</style>\n",
       "<ol class=list-inline><li>1</li><li>2</li><li>3</li><li>4</li><li>5</li><li>6</li><li>7</li><li>8</li><li>9</li><li>10</li></ol>\n"
      ],
      "text/latex": [
       "\\begin{enumerate*}\n",
       "\\item 1\n",
       "\\item 2\n",
       "\\item 3\n",
       "\\item 4\n",
       "\\item 5\n",
       "\\item 6\n",
       "\\item 7\n",
       "\\item 8\n",
       "\\item 9\n",
       "\\item 10\n",
       "\\end{enumerate*}\n"
      ],
      "text/markdown": [
       "1. 1\n",
       "2. 2\n",
       "3. 3\n",
       "4. 4\n",
       "5. 5\n",
       "6. 6\n",
       "7. 7\n",
       "8. 8\n",
       "9. 9\n",
       "10. 10\n",
       "\n",
       "\n"
      ],
      "text/plain": [
       " [1]  1  2  3  4  5  6  7  8  9 10"
      ]
     },
     "metadata": {},
     "output_type": "display_data"
    },
    {
     "data": {
      "text/html": [
       "'The fourth element'"
      ],
      "text/latex": [
       "'The fourth element'"
      ],
      "text/markdown": [
       "'The fourth element'"
      ],
      "text/plain": [
       "[1] \"The fourth element\""
      ]
     },
     "metadata": {},
     "output_type": "display_data"
    },
    {
     "data": {
      "text/html": [
       "4"
      ],
      "text/latex": [
       "4"
      ],
      "text/markdown": [
       "4"
      ],
      "text/plain": [
       "[1] 4"
      ]
     },
     "metadata": {},
     "output_type": "display_data"
    },
    {
     "data": {
      "text/html": [
       "'All but the fourth'"
      ],
      "text/latex": [
       "'All but the fourth'"
      ],
      "text/markdown": [
       "'All but the fourth'"
      ],
      "text/plain": [
       "[1] \"All but the fourth\""
      ]
     },
     "metadata": {},
     "output_type": "display_data"
    },
    {
     "data": {
      "text/html": [
       "<style>\n",
       ".list-inline {list-style: none; margin:0; padding: 0}\n",
       ".list-inline>li {display: inline-block}\n",
       ".list-inline>li:not(:last-child)::after {content: \"\\00b7\"; padding: 0 .5ex}\n",
       "</style>\n",
       "<ol class=list-inline><li>1</li><li>2</li><li>3</li><li>5</li><li>6</li><li>7</li><li>8</li><li>9</li><li>10</li></ol>\n"
      ],
      "text/latex": [
       "\\begin{enumerate*}\n",
       "\\item 1\n",
       "\\item 2\n",
       "\\item 3\n",
       "\\item 5\n",
       "\\item 6\n",
       "\\item 7\n",
       "\\item 8\n",
       "\\item 9\n",
       "\\item 10\n",
       "\\end{enumerate*}\n"
      ],
      "text/markdown": [
       "1. 1\n",
       "2. 2\n",
       "3. 3\n",
       "4. 5\n",
       "5. 6\n",
       "6. 7\n",
       "7. 8\n",
       "8. 9\n",
       "9. 10\n",
       "\n",
       "\n"
      ],
      "text/plain": [
       "[1]  1  2  3  5  6  7  8  9 10"
      ]
     },
     "metadata": {},
     "output_type": "display_data"
    },
    {
     "data": {
      "text/html": [
       "'You can give names to the vector elements'"
      ],
      "text/latex": [
       "'You can give names to the vector elements'"
      ],
      "text/markdown": [
       "'You can give names to the vector elements'"
      ],
      "text/plain": [
       "[1] \"You can give names to the vector elements\""
      ]
     },
     "metadata": {},
     "output_type": "display_data"
    },
    {
     "data": {
      "text/html": [
       "<style>\n",
       ".dl-inline {width: auto; margin:0; padding: 0}\n",
       ".dl-inline>dt, .dl-inline>dd {float: none; width: auto; display: inline-block}\n",
       ".dl-inline>dt::after {content: \":\\0020\"; padding-right: .5ex}\n",
       ".dl-inline>dt:not(:first-of-type) {padding-left: .5ex}\n",
       "</style><dl class=dl-inline><dt>One</dt><dd>1</dd><dt>Two</dt><dd>2</dd><dt>Three</dt><dd>3</dd><dt>Four</dt><dd>4</dd><dt>Five</dt><dd>5</dd><dt>Six</dt><dd>6</dd><dt>Seven</dt><dd>7</dd><dt>Eight</dt><dd>8</dd><dt>Nine</dt><dd>9</dd><dt>Ten</dt><dd>10</dd></dl>\n"
      ],
      "text/latex": [
       "\\begin{description*}\n",
       "\\item[One] 1\n",
       "\\item[Two] 2\n",
       "\\item[Three] 3\n",
       "\\item[Four] 4\n",
       "\\item[Five] 5\n",
       "\\item[Six] 6\n",
       "\\item[Seven] 7\n",
       "\\item[Eight] 8\n",
       "\\item[Nine] 9\n",
       "\\item[Ten] 10\n",
       "\\end{description*}\n"
      ],
      "text/markdown": [
       "One\n",
       ":   1Two\n",
       ":   2Three\n",
       ":   3Four\n",
       ":   4Five\n",
       ":   5Six\n",
       ":   6Seven\n",
       ":   7Eight\n",
       ":   8Nine\n",
       ":   9Ten\n",
       ":   10\n",
       "\n"
      ],
      "text/plain": [
       "  One   Two Three  Four  Five   Six Seven Eight  Nine   Ten \n",
       "    1     2     3     4     5     6     7     8     9    10 "
      ]
     },
     "metadata": {},
     "output_type": "display_data"
    },
    {
     "data": {
      "text/html": [
       "'As discussed before, for loop over vectors'"
      ],
      "text/latex": [
       "'As discussed before, for loop over vectors'"
      ],
      "text/markdown": [
       "'As discussed before, for loop over vectors'"
      ],
      "text/plain": [
       "[1] \"As discussed before, for loop over vectors\""
      ]
     },
     "metadata": {},
     "output_type": "display_data"
    },
    {
     "name": "stdout",
     "output_type": "stream",
     "text": [
      "[1] 1\n",
      "[1] 2\n",
      "[1] 3\n",
      "[1] 4\n",
      "[1] 5\n",
      "[1] 6\n",
      "[1] 7\n",
      "[1] 8\n",
      "[1] 9\n",
      "[1] 10\n"
     ]
    },
    {
     "data": {
      "text/html": [
       "'Any type of vector, even the names of x'"
      ],
      "text/latex": [
       "'Any type of vector, even the names of x'"
      ],
      "text/markdown": [
       "'Any type of vector, even the names of x'"
      ],
      "text/plain": [
       "[1] \"Any type of vector, even the names of x\""
      ]
     },
     "metadata": {},
     "output_type": "display_data"
    },
    {
     "name": "stdout",
     "output_type": "stream",
     "text": [
      "[1] \"One\"\n",
      "[1] \"Two\"\n",
      "[1] \"Three\"\n",
      "[1] \"Four\"\n",
      "[1] \"Five\"\n",
      "[1] \"Six\"\n",
      "[1] \"Seven\"\n",
      "[1] \"Eight\"\n",
      "[1] \"Nine\"\n",
      "[1] \"Ten\"\n"
     ]
    }
   ],
   "source": [
    "# Create vectors using the \"c\" (concatenate) function\n",
    "numbers <- c(1, 2, 10, 6, 49, 101, 155, 8)\n",
    "characters <- c(\"a\", \"b\", \"c\")\n",
    "\n",
    "# the colon operator creates interger sequences\n",
    "x <- 1:10\n",
    "\n",
    "\"A vector of integers from 1 to 10\"\n",
    "x\n",
    "\n",
    "\"The fourth element\"\n",
    "x[4] \n",
    "\n",
    "\"All but the fourth\"\n",
    "x[-4] \n",
    "\n",
    "\"You can give names to the vector elements\"\n",
    "names(x) <- c(\"One\", \"Two\", \"Three\", \"Four\", \"Five\", \"Six\", \"Seven\", \"Eight\", \"Nine\", \"Ten\")\n",
    "\n",
    "x\n",
    "\n",
    "\"As discussed before, for loop over vectors\"\n",
    "for(n in x)\n",
    "    print(n)\n",
    "\"Any type of vector, even the names of x\"    \n",
    "for(n in names(x))\n",
    "    print(n)"
   ]
  },
  {
   "cell_type": "markdown",
   "metadata": {},
   "source": [
    "## NA \n",
    "\n",
    "NA simply indicates that the value is missing, and it is a type for itself. Be careful that doing operations of NAs may return a NA!"
   ]
  },
  {
   "cell_type": "code",
   "execution_count": 33,
   "metadata": {},
   "outputs": [
    {
     "data": {
      "text/html": [
       "' if we take the mean of the vector, we get a NA'"
      ],
      "text/latex": [
       "' if we take the mean of the vector, we get a NA'"
      ],
      "text/markdown": [
       "' if we take the mean of the vector, we get a NA'"
      ],
      "text/plain": [
       "[1] \" if we take the mean of the vector, we get a NA\""
      ]
     },
     "metadata": {},
     "output_type": "display_data"
    },
    {
     "data": {
      "text/html": [
       "&lt;NA&gt;"
      ],
      "text/latex": [
       "<NA>"
      ],
      "text/markdown": [
       "&lt;NA&gt;"
      ],
      "text/plain": [
       "[1] NA"
      ]
     },
     "metadata": {},
     "output_type": "display_data"
    },
    {
     "data": {
      "text/html": [
       "' which can be avaoided by ignoring the NAs'"
      ],
      "text/latex": [
       "' which can be avaoided by ignoring the NAs'"
      ],
      "text/markdown": [
       "' which can be avaoided by ignoring the NAs'"
      ],
      "text/plain": [
       "[1] \" which can be avaoided by ignoring the NAs\""
      ]
     },
     "metadata": {},
     "output_type": "display_data"
    },
    {
     "data": {
      "text/html": [
       "2.75"
      ],
      "text/latex": [
       "2.75"
      ],
      "text/markdown": [
       "2.75"
      ],
      "text/plain": [
       "[1] 2.75"
      ]
     },
     "metadata": {},
     "output_type": "display_data"
    }
   ],
   "source": [
    "# a vector containing a missing value\n",
    "vec <- c(1, 2, 3, NA, 5)\n",
    "\n",
    "\" if we take the mean of the vector, we get a NA\"\n",
    "mean(vec)\n",
    "\n",
    "\" which can be avoided by ignoring the NAs\"\n",
    "mean(vec, na.rm=T)"
   ]
  },
  {
   "cell_type": "markdown",
   "metadata": {},
   "source": [
    "### Coin toss\n",
    "\n",
    "Many R functions returns vectors. Let us simulate coin tossing with rbinom. This is a function that samples from the binomian distribution:"
   ]
  },
  {
   "cell_type": "code",
   "execution_count": 15,
   "metadata": {},
   "outputs": [
    {
     "data": {
      "text/html": [
       "<style>\n",
       ".list-inline {list-style: none; margin:0; padding: 0}\n",
       ".list-inline>li {display: inline-block}\n",
       ".list-inline>li:not(:last-child)::after {content: \"\\00b7\"; padding: 0 .5ex}\n",
       "</style>\n",
       "<ol class=list-inline><li>0</li><li>0</li><li>0</li><li>0</li><li>0</li><li>0</li><li>1</li><li>1</li><li>1</li><li>1</li><li>0</li><li>1</li><li>1</li><li>1</li><li>1</li><li>1</li><li>1</li><li>1</li><li>0</li><li>1</li><li>1</li><li>1</li><li>1</li><li>1</li><li>0</li><li>1</li><li>1</li><li>0</li><li>1</li><li>1</li><li>1</li><li>1</li><li>1</li><li>0</li><li>0</li><li>1</li><li>1</li><li>1</li><li>0</li><li>1</li><li>1</li><li>1</li><li>1</li><li>1</li><li>1</li><li>1</li><li>0</li><li>0</li><li>0</li><li>1</li><li>1</li><li>1</li><li>0</li><li>0</li><li>1</li><li>1</li><li>0</li><li>0</li><li>1</li><li>1</li><li>1</li><li>1</li><li>1</li><li>0</li><li>1</li><li>1</li><li>1</li><li>1</li><li>1</li><li>1</li><li>1</li><li>1</li><li>1</li><li>1</li><li>0</li><li>1</li><li>1</li><li>1</li><li>1</li><li>1</li><li>1</li><li>1</li><li>0</li><li>0</li><li>1</li><li>1</li><li>0</li><li>1</li><li>1</li><li>1</li><li>1</li><li>1</li><li>1</li><li>1</li><li>1</li><li>1</li><li>1</li><li>1</li><li>1</li><li>1</li></ol>\n"
      ],
      "text/latex": [
       "\\begin{enumerate*}\n",
       "\\item 0\n",
       "\\item 0\n",
       "\\item 0\n",
       "\\item 0\n",
       "\\item 0\n",
       "\\item 0\n",
       "\\item 1\n",
       "\\item 1\n",
       "\\item 1\n",
       "\\item 1\n",
       "\\item 0\n",
       "\\item 1\n",
       "\\item 1\n",
       "\\item 1\n",
       "\\item 1\n",
       "\\item 1\n",
       "\\item 1\n",
       "\\item 1\n",
       "\\item 0\n",
       "\\item 1\n",
       "\\item 1\n",
       "\\item 1\n",
       "\\item 1\n",
       "\\item 1\n",
       "\\item 0\n",
       "\\item 1\n",
       "\\item 1\n",
       "\\item 0\n",
       "\\item 1\n",
       "\\item 1\n",
       "\\item 1\n",
       "\\item 1\n",
       "\\item 1\n",
       "\\item 0\n",
       "\\item 0\n",
       "\\item 1\n",
       "\\item 1\n",
       "\\item 1\n",
       "\\item 0\n",
       "\\item 1\n",
       "\\item 1\n",
       "\\item 1\n",
       "\\item 1\n",
       "\\item 1\n",
       "\\item 1\n",
       "\\item 1\n",
       "\\item 0\n",
       "\\item 0\n",
       "\\item 0\n",
       "\\item 1\n",
       "\\item 1\n",
       "\\item 1\n",
       "\\item 0\n",
       "\\item 0\n",
       "\\item 1\n",
       "\\item 1\n",
       "\\item 0\n",
       "\\item 0\n",
       "\\item 1\n",
       "\\item 1\n",
       "\\item 1\n",
       "\\item 1\n",
       "\\item 1\n",
       "\\item 0\n",
       "\\item 1\n",
       "\\item 1\n",
       "\\item 1\n",
       "\\item 1\n",
       "\\item 1\n",
       "\\item 1\n",
       "\\item 1\n",
       "\\item 1\n",
       "\\item 1\n",
       "\\item 1\n",
       "\\item 0\n",
       "\\item 1\n",
       "\\item 1\n",
       "\\item 1\n",
       "\\item 1\n",
       "\\item 1\n",
       "\\item 1\n",
       "\\item 1\n",
       "\\item 0\n",
       "\\item 0\n",
       "\\item 1\n",
       "\\item 1\n",
       "\\item 0\n",
       "\\item 1\n",
       "\\item 1\n",
       "\\item 1\n",
       "\\item 1\n",
       "\\item 1\n",
       "\\item 1\n",
       "\\item 1\n",
       "\\item 1\n",
       "\\item 1\n",
       "\\item 1\n",
       "\\item 1\n",
       "\\item 1\n",
       "\\item 1\n",
       "\\end{enumerate*}\n"
      ],
      "text/markdown": [
       "1. 0\n",
       "2. 0\n",
       "3. 0\n",
       "4. 0\n",
       "5. 0\n",
       "6. 0\n",
       "7. 1\n",
       "8. 1\n",
       "9. 1\n",
       "10. 1\n",
       "11. 0\n",
       "12. 1\n",
       "13. 1\n",
       "14. 1\n",
       "15. 1\n",
       "16. 1\n",
       "17. 1\n",
       "18. 1\n",
       "19. 0\n",
       "20. 1\n",
       "21. 1\n",
       "22. 1\n",
       "23. 1\n",
       "24. 1\n",
       "25. 0\n",
       "26. 1\n",
       "27. 1\n",
       "28. 0\n",
       "29. 1\n",
       "30. 1\n",
       "31. 1\n",
       "32. 1\n",
       "33. 1\n",
       "34. 0\n",
       "35. 0\n",
       "36. 1\n",
       "37. 1\n",
       "38. 1\n",
       "39. 0\n",
       "40. 1\n",
       "41. 1\n",
       "42. 1\n",
       "43. 1\n",
       "44. 1\n",
       "45. 1\n",
       "46. 1\n",
       "47. 0\n",
       "48. 0\n",
       "49. 0\n",
       "50. 1\n",
       "51. 1\n",
       "52. 1\n",
       "53. 0\n",
       "54. 0\n",
       "55. 1\n",
       "56. 1\n",
       "57. 0\n",
       "58. 0\n",
       "59. 1\n",
       "60. 1\n",
       "61. 1\n",
       "62. 1\n",
       "63. 1\n",
       "64. 0\n",
       "65. 1\n",
       "66. 1\n",
       "67. 1\n",
       "68. 1\n",
       "69. 1\n",
       "70. 1\n",
       "71. 1\n",
       "72. 1\n",
       "73. 1\n",
       "74. 1\n",
       "75. 0\n",
       "76. 1\n",
       "77. 1\n",
       "78. 1\n",
       "79. 1\n",
       "80. 1\n",
       "81. 1\n",
       "82. 1\n",
       "83. 0\n",
       "84. 0\n",
       "85. 1\n",
       "86. 1\n",
       "87. 0\n",
       "88. 1\n",
       "89. 1\n",
       "90. 1\n",
       "91. 1\n",
       "92. 1\n",
       "93. 1\n",
       "94. 1\n",
       "95. 1\n",
       "96. 1\n",
       "97. 1\n",
       "98. 1\n",
       "99. 1\n",
       "100. 1\n",
       "\n",
       "\n"
      ],
      "text/plain": [
       "  [1] 0 0 0 0 0 0 1 1 1 1 0 1 1 1 1 1 1 1 0 1 1 1 1 1 0 1 1 0 1 1 1 1 1 0 0 1 1\n",
       " [38] 1 0 1 1 1 1 1 1 1 0 0 0 1 1 1 0 0 1 1 0 0 1 1 1 1 1 0 1 1 1 1 1 1 1 1 1 1\n",
       " [75] 0 1 1 1 1 1 1 1 0 0 1 1 0 1 1 1 1 1 1 1 1 1 1 1 1 1"
      ]
     },
     "metadata": {},
     "output_type": "display_data"
    },
    {
     "data": {
      "image/png": "[encoded data removed]",
      "text/plain": [
       "Plot with title “Histogram of x”"
      ]
     },
     "metadata": {
      "image/png": {
       "height": 420,
       "width": 420
      }
     },
     "output_type": "display_data"
    }
   ],
   "source": [
    "# Toss a coin 100 times, the coin has a 55% prob of head\n",
    "x <- rbinom(100, size = 1, prob = 0.7)\n",
    "\n",
    "x\n",
    "\n",
    "# Plot the results as an barplot\n",
    "hist(x)\n"
   ]
  },
  {
   "cell_type": "markdown",
   "metadata": {},
   "source": [
    "### Indexing a  vector\n",
    "\n",
    "You can also use vector to index other vector (a way to avoid loops)"
   ]
  },
  {
   "cell_type": "code",
   "execution_count": 16,
   "metadata": {},
   "outputs": [
    {
     "data": {
      "text/html": [
       "'Elements two to four'"
      ],
      "text/latex": [
       "'Elements two to four'"
      ],
      "text/markdown": [
       "'Elements two to four'"
      ],
      "text/plain": [
       "[1] \"Elements two to four\""
      ]
     },
     "metadata": {},
     "output_type": "display_data"
    },
    {
     "data": {
      "text/html": [
       "<style>\n",
       ".list-inline {list-style: none; margin:0; padding: 0}\n",
       ".list-inline>li {display: inline-block}\n",
       ".list-inline>li:not(:last-child)::after {content: \"\\00b7\"; padding: 0 .5ex}\n",
       "</style>\n",
       "<ol class=list-inline><li>0</li><li>0</li><li>0</li></ol>\n"
      ],
      "text/latex": [
       "\\begin{enumerate*}\n",
       "\\item 0\n",
       "\\item 0\n",
       "\\item 0\n",
       "\\end{enumerate*}\n"
      ],
      "text/markdown": [
       "1. 0\n",
       "2. 0\n",
       "3. 0\n",
       "\n",
       "\n"
      ],
      "text/plain": [
       "[1] 0 0 0"
      ]
     },
     "metadata": {},
     "output_type": "display_data"
    },
    {
     "data": {
      "text/html": [
       "'All elements except two to four.'"
      ],
      "text/latex": [
       "'All elements except two to four.'"
      ],
      "text/markdown": [
       "'All elements except two to four.'"
      ],
      "text/plain": [
       "[1] \"All elements except two to four.\""
      ]
     },
     "metadata": {},
     "output_type": "display_data"
    },
    {
     "data": {
      "text/html": [
       "<style>\n",
       ".list-inline {list-style: none; margin:0; padding: 0}\n",
       ".list-inline>li {display: inline-block}\n",
       ".list-inline>li:not(:last-child)::after {content: \"\\00b7\"; padding: 0 .5ex}\n",
       "</style>\n",
       "<ol class=list-inline><li>0</li><li>0</li><li>0</li><li>1</li><li>1</li><li>1</li><li>1</li><li>0</li><li>1</li><li>1</li><li>1</li><li>1</li><li>1</li><li>1</li><li>1</li><li>0</li><li>1</li><li>1</li><li>1</li><li>1</li><li>1</li><li>0</li><li>1</li><li>1</li><li>0</li><li>1</li><li>1</li><li>1</li><li>1</li><li>1</li><li>0</li><li>0</li><li>1</li><li>1</li><li>1</li><li>0</li><li>1</li><li>1</li><li>1</li><li>1</li><li>1</li><li>1</li><li>1</li><li>0</li><li>0</li><li>0</li><li>1</li><li>1</li><li>1</li><li>0</li><li>0</li><li>1</li><li>1</li><li>0</li><li>0</li><li>1</li><li>1</li><li>1</li><li>1</li><li>1</li><li>0</li><li>1</li><li>1</li><li>1</li><li>1</li><li>1</li><li>1</li><li>1</li><li>1</li><li>1</li><li>1</li><li>0</li><li>1</li><li>1</li><li>1</li><li>1</li><li>1</li><li>1</li><li>1</li><li>0</li><li>0</li><li>1</li><li>1</li><li>0</li><li>1</li><li>1</li><li>1</li><li>1</li><li>1</li><li>1</li><li>1</li><li>1</li><li>1</li><li>1</li><li>1</li><li>1</li><li>1</li></ol>\n"
      ],
      "text/latex": [
       "\\begin{enumerate*}\n",
       "\\item 0\n",
       "\\item 0\n",
       "\\item 0\n",
       "\\item 1\n",
       "\\item 1\n",
       "\\item 1\n",
       "\\item 1\n",
       "\\item 0\n",
       "\\item 1\n",
       "\\item 1\n",
       "\\item 1\n",
       "\\item 1\n",
       "\\item 1\n",
       "\\item 1\n",
       "\\item 1\n",
       "\\item 0\n",
       "\\item 1\n",
       "\\item 1\n",
       "\\item 1\n",
       "\\item 1\n",
       "\\item 1\n",
       "\\item 0\n",
       "\\item 1\n",
       "\\item 1\n",
       "\\item 0\n",
       "\\item 1\n",
       "\\item 1\n",
       "\\item 1\n",
       "\\item 1\n",
       "\\item 1\n",
       "\\item 0\n",
       "\\item 0\n",
       "\\item 1\n",
       "\\item 1\n",
       "\\item 1\n",
       "\\item 0\n",
       "\\item 1\n",
       "\\item 1\n",
       "\\item 1\n",
       "\\item 1\n",
       "\\item 1\n",
       "\\item 1\n",
       "\\item 1\n",
       "\\item 0\n",
       "\\item 0\n",
       "\\item 0\n",
       "\\item 1\n",
       "\\item 1\n",
       "\\item 1\n",
       "\\item 0\n",
       "\\item 0\n",
       "\\item 1\n",
       "\\item 1\n",
       "\\item 0\n",
       "\\item 0\n",
       "\\item 1\n",
       "\\item 1\n",
       "\\item 1\n",
       "\\item 1\n",
       "\\item 1\n",
       "\\item 0\n",
       "\\item 1\n",
       "\\item 1\n",
       "\\item 1\n",
       "\\item 1\n",
       "\\item 1\n",
       "\\item 1\n",
       "\\item 1\n",
       "\\item 1\n",
       "\\item 1\n",
       "\\item 1\n",
       "\\item 0\n",
       "\\item 1\n",
       "\\item 1\n",
       "\\item 1\n",
       "\\item 1\n",
       "\\item 1\n",
       "\\item 1\n",
       "\\item 1\n",
       "\\item 0\n",
       "\\item 0\n",
       "\\item 1\n",
       "\\item 1\n",
       "\\item 0\n",
       "\\item 1\n",
       "\\item 1\n",
       "\\item 1\n",
       "\\item 1\n",
       "\\item 1\n",
       "\\item 1\n",
       "\\item 1\n",
       "\\item 1\n",
       "\\item 1\n",
       "\\item 1\n",
       "\\item 1\n",
       "\\item 1\n",
       "\\item 1\n",
       "\\end{enumerate*}\n"
      ],
      "text/markdown": [
       "1. 0\n",
       "2. 0\n",
       "3. 0\n",
       "4. 1\n",
       "5. 1\n",
       "6. 1\n",
       "7. 1\n",
       "8. 0\n",
       "9. 1\n",
       "10. 1\n",
       "11. 1\n",
       "12. 1\n",
       "13. 1\n",
       "14. 1\n",
       "15. 1\n",
       "16. 0\n",
       "17. 1\n",
       "18. 1\n",
       "19. 1\n",
       "20. 1\n",
       "21. 1\n",
       "22. 0\n",
       "23. 1\n",
       "24. 1\n",
       "25. 0\n",
       "26. 1\n",
       "27. 1\n",
       "28. 1\n",
       "29. 1\n",
       "30. 1\n",
       "31. 0\n",
       "32. 0\n",
       "33. 1\n",
       "34. 1\n",
       "35. 1\n",
       "36. 0\n",
       "37. 1\n",
       "38. 1\n",
       "39. 1\n",
       "40. 1\n",
       "41. 1\n",
       "42. 1\n",
       "43. 1\n",
       "44. 0\n",
       "45. 0\n",
       "46. 0\n",
       "47. 1\n",
       "48. 1\n",
       "49. 1\n",
       "50. 0\n",
       "51. 0\n",
       "52. 1\n",
       "53. 1\n",
       "54. 0\n",
       "55. 0\n",
       "56. 1\n",
       "57. 1\n",
       "58. 1\n",
       "59. 1\n",
       "60. 1\n",
       "61. 0\n",
       "62. 1\n",
       "63. 1\n",
       "64. 1\n",
       "65. 1\n",
       "66. 1\n",
       "67. 1\n",
       "68. 1\n",
       "69. 1\n",
       "70. 1\n",
       "71. 1\n",
       "72. 0\n",
       "73. 1\n",
       "74. 1\n",
       "75. 1\n",
       "76. 1\n",
       "77. 1\n",
       "78. 1\n",
       "79. 1\n",
       "80. 0\n",
       "81. 0\n",
       "82. 1\n",
       "83. 1\n",
       "84. 0\n",
       "85. 1\n",
       "86. 1\n",
       "87. 1\n",
       "88. 1\n",
       "89. 1\n",
       "90. 1\n",
       "91. 1\n",
       "92. 1\n",
       "93. 1\n",
       "94. 1\n",
       "95. 1\n",
       "96. 1\n",
       "97. 1\n",
       "\n",
       "\n"
      ],
      "text/plain": [
       " [1] 0 0 0 1 1 1 1 0 1 1 1 1 1 1 1 0 1 1 1 1 1 0 1 1 0 1 1 1 1 1 0 0 1 1 1 0 1 1\n",
       "[39] 1 1 1 1 1 0 0 0 1 1 1 0 0 1 1 0 0 1 1 1 1 1 0 1 1 1 1 1 1 1 1 1 1 0 1 1 1 1\n",
       "[77] 1 1 1 0 0 1 1 0 1 1 1 1 1 1 1 1 1 1 1 1 1"
      ]
     },
     "metadata": {},
     "output_type": "display_data"
    },
    {
     "data": {
      "text/html": [
       "'Elements one and five.'"
      ],
      "text/latex": [
       "'Elements one and five.'"
      ],
      "text/markdown": [
       "'Elements one and five.'"
      ],
      "text/plain": [
       "[1] \"Elements one and five.\""
      ]
     },
     "metadata": {},
     "output_type": "display_data"
    },
    {
     "data": {
      "text/html": [
       "<style>\n",
       ".list-inline {list-style: none; margin:0; padding: 0}\n",
       ".list-inline>li {display: inline-block}\n",
       ".list-inline>li:not(:last-child)::after {content: \"\\00b7\"; padding: 0 .5ex}\n",
       "</style>\n",
       "<ol class=list-inline><li>0</li><li>0</li></ol>\n"
      ],
      "text/latex": [
       "\\begin{enumerate*}\n",
       "\\item 0\n",
       "\\item 0\n",
       "\\end{enumerate*}\n"
      ],
      "text/markdown": [
       "1. 0\n",
       "2. 0\n",
       "\n",
       "\n"
      ],
      "text/plain": [
       "[1] 0 0"
      ]
     },
     "metadata": {},
     "output_type": "display_data"
    }
   ],
   "source": [
    "\"Elements two to four\"\n",
    "x[2:4] \n",
    "\n",
    "\"All elements except two to four.\"\n",
    "x[-(2:4)] \n",
    "\n",
    "\"Elements one and five.\"\n",
    "x[c(1, 5)] \n",
    "\n"
   ]
  },
  {
   "cell_type": "markdown",
   "metadata": {},
   "source": [
    "### Vectorization\n",
    "\n",
    "As noted before R automatically **vectorize** operations that involve vectors and non-vectors (another way to avoid loops)"
   ]
  },
  {
   "cell_type": "code",
   "execution_count": 17,
   "metadata": {},
   "outputs": [
    {
     "data": {
      "text/html": [
       "'Elements positions which are equal to 10.'"
      ],
      "text/latex": [
       "'Elements positions which are equal to 10.'"
      ],
      "text/markdown": [
       "'Elements positions which are equal to 10.'"
      ],
      "text/plain": [
       "[1] \"Elements positions which are equal to 10.\""
      ]
     },
     "metadata": {},
     "output_type": "display_data"
    },
    {
     "data": {
      "text/html": [
       "<style>\n",
       ".list-inline {list-style: none; margin:0; padding: 0}\n",
       ".list-inline>li {display: inline-block}\n",
       ".list-inline>li:not(:last-child)::after {content: \"\\00b7\"; padding: 0 .5ex}\n",
       "</style>\n",
       "<ol class=list-inline><li>FALSE</li><li>FALSE</li><li>FALSE</li><li>FALSE</li><li>FALSE</li><li>FALSE</li><li>FALSE</li><li>FALSE</li><li>FALSE</li><li>FALSE</li><li>FALSE</li><li>FALSE</li><li>FALSE</li><li>FALSE</li><li>FALSE</li><li>FALSE</li><li>FALSE</li><li>FALSE</li><li>FALSE</li><li>FALSE</li><li>FALSE</li><li>FALSE</li><li>FALSE</li><li>FALSE</li><li>FALSE</li><li>FALSE</li><li>FALSE</li><li>FALSE</li><li>FALSE</li><li>FALSE</li><li>FALSE</li><li>FALSE</li><li>FALSE</li><li>FALSE</li><li>FALSE</li><li>FALSE</li><li>FALSE</li><li>FALSE</li><li>FALSE</li><li>FALSE</li><li>FALSE</li><li>FALSE</li><li>FALSE</li><li>FALSE</li><li>FALSE</li><li>FALSE</li><li>FALSE</li><li>FALSE</li><li>FALSE</li><li>FALSE</li><li>FALSE</li><li>FALSE</li><li>FALSE</li><li>FALSE</li><li>FALSE</li><li>FALSE</li><li>FALSE</li><li>FALSE</li><li>FALSE</li><li>FALSE</li><li>FALSE</li><li>FALSE</li><li>FALSE</li><li>FALSE</li><li>FALSE</li><li>FALSE</li><li>FALSE</li><li>FALSE</li><li>FALSE</li><li>FALSE</li><li>FALSE</li><li>FALSE</li><li>FALSE</li><li>FALSE</li><li>FALSE</li><li>FALSE</li><li>FALSE</li><li>FALSE</li><li>FALSE</li><li>FALSE</li><li>FALSE</li><li>FALSE</li><li>FALSE</li><li>FALSE</li><li>FALSE</li><li>FALSE</li><li>FALSE</li><li>FALSE</li><li>FALSE</li><li>FALSE</li><li>FALSE</li><li>FALSE</li><li>FALSE</li><li>FALSE</li><li>FALSE</li><li>FALSE</li><li>FALSE</li><li>FALSE</li><li>FALSE</li><li>FALSE</li></ol>\n"
      ],
      "text/latex": [
       "\\begin{enumerate*}\n",
       "\\item FALSE\n",
       "\\item FALSE\n",
       "\\item FALSE\n",
       "\\item FALSE\n",
       "\\item FALSE\n",
       "\\item FALSE\n",
       "\\item FALSE\n",
       "\\item FALSE\n",
       "\\item FALSE\n",
       "\\item FALSE\n",
       "\\item FALSE\n",
       "\\item FALSE\n",
       "\\item FALSE\n",
       "\\item FALSE\n",
       "\\item FALSE\n",
       "\\item FALSE\n",
       "\\item FALSE\n",
       "\\item FALSE\n",
       "\\item FALSE\n",
       "\\item FALSE\n",
       "\\item FALSE\n",
       "\\item FALSE\n",
       "\\item FALSE\n",
       "\\item FALSE\n",
       "\\item FALSE\n",
       "\\item FALSE\n",
       "\\item FALSE\n",
       "\\item FALSE\n",
       "\\item FALSE\n",
       "\\item FALSE\n",
       "\\item FALSE\n",
       "\\item FALSE\n",
       "\\item FALSE\n",
       "\\item FALSE\n",
       "\\item FALSE\n",
       "\\item FALSE\n",
       "\\item FALSE\n",
       "\\item FALSE\n",
       "\\item FALSE\n",
       "\\item FALSE\n",
       "\\item FALSE\n",
       "\\item FALSE\n",
       "\\item FALSE\n",
       "\\item FALSE\n",
       "\\item FALSE\n",
       "\\item FALSE\n",
       "\\item FALSE\n",
       "\\item FALSE\n",
       "\\item FALSE\n",
       "\\item FALSE\n",
       "\\item FALSE\n",
       "\\item FALSE\n",
       "\\item FALSE\n",
       "\\item FALSE\n",
       "\\item FALSE\n",
       "\\item FALSE\n",
       "\\item FALSE\n",
       "\\item FALSE\n",
       "\\item FALSE\n",
       "\\item FALSE\n",
       "\\item FALSE\n",
       "\\item FALSE\n",
       "\\item FALSE\n",
       "\\item FALSE\n",
       "\\item FALSE\n",
       "\\item FALSE\n",
       "\\item FALSE\n",
       "\\item FALSE\n",
       "\\item FALSE\n",
       "\\item FALSE\n",
       "\\item FALSE\n",
       "\\item FALSE\n",
       "\\item FALSE\n",
       "\\item FALSE\n",
       "\\item FALSE\n",
       "\\item FALSE\n",
       "\\item FALSE\n",
       "\\item FALSE\n",
       "\\item FALSE\n",
       "\\item FALSE\n",
       "\\item FALSE\n",
       "\\item FALSE\n",
       "\\item FALSE\n",
       "\\item FALSE\n",
       "\\item FALSE\n",
       "\\item FALSE\n",
       "\\item FALSE\n",
       "\\item FALSE\n",
       "\\item FALSE\n",
       "\\item FALSE\n",
       "\\item FALSE\n",
       "\\item FALSE\n",
       "\\item FALSE\n",
       "\\item FALSE\n",
       "\\item FALSE\n",
       "\\item FALSE\n",
       "\\item FALSE\n",
       "\\item FALSE\n",
       "\\item FALSE\n",
       "\\item FALSE\n",
       "\\end{enumerate*}\n"
      ],
      "text/markdown": [
       "1. FALSE\n",
       "2. FALSE\n",
       "3. FALSE\n",
       "4. FALSE\n",
       "5. FALSE\n",
       "6. FALSE\n",
       "7. FALSE\n",
       "8. FALSE\n",
       "9. FALSE\n",
       "10. FALSE\n",
       "11. FALSE\n",
       "12. FALSE\n",
       "13. FALSE\n",
       "14. FALSE\n",
       "15. FALSE\n",
       "16. FALSE\n",
       "17. FALSE\n",
       "18. FALSE\n",
       "19. FALSE\n",
       "20. FALSE\n",
       "21. FALSE\n",
       "22. FALSE\n",
       "23. FALSE\n",
       "24. FALSE\n",
       "25. FALSE\n",
       "26. FALSE\n",
       "27. FALSE\n",
       "28. FALSE\n",
       "29. FALSE\n",
       "30. FALSE\n",
       "31. FALSE\n",
       "32. FALSE\n",
       "33. FALSE\n",
       "34. FALSE\n",
       "35. FALSE\n",
       "36. FALSE\n",
       "37. FALSE\n",
       "38. FALSE\n",
       "39. FALSE\n",
       "40. FALSE\n",
       "41. FALSE\n",
       "42. FALSE\n",
       "43. FALSE\n",
       "44. FALSE\n",
       "45. FALSE\n",
       "46. FALSE\n",
       "47. FALSE\n",
       "48. FALSE\n",
       "49. FALSE\n",
       "50. FALSE\n",
       "51. FALSE\n",
       "52. FALSE\n",
       "53. FALSE\n",
       "54. FALSE\n",
       "55. FALSE\n",
       "56. FALSE\n",
       "57. FALSE\n",
       "58. FALSE\n",
       "59. FALSE\n",
       "60. FALSE\n",
       "61. FALSE\n",
       "62. FALSE\n",
       "63. FALSE\n",
       "64. FALSE\n",
       "65. FALSE\n",
       "66. FALSE\n",
       "67. FALSE\n",
       "68. FALSE\n",
       "69. FALSE\n",
       "70. FALSE\n",
       "71. FALSE\n",
       "72. FALSE\n",
       "73. FALSE\n",
       "74. FALSE\n",
       "75. FALSE\n",
       "76. FALSE\n",
       "77. FALSE\n",
       "78. FALSE\n",
       "79. FALSE\n",
       "80. FALSE\n",
       "81. FALSE\n",
       "82. FALSE\n",
       "83. FALSE\n",
       "84. FALSE\n",
       "85. FALSE\n",
       "86. FALSE\n",
       "87. FALSE\n",
       "88. FALSE\n",
       "89. FALSE\n",
       "90. FALSE\n",
       "91. FALSE\n",
       "92. FALSE\n",
       "93. FALSE\n",
       "94. FALSE\n",
       "95. FALSE\n",
       "96. FALSE\n",
       "97. FALSE\n",
       "98. FALSE\n",
       "99. FALSE\n",
       "100. FALSE\n",
       "\n",
       "\n"
      ],
      "text/plain": [
       "  [1] FALSE FALSE FALSE FALSE FALSE FALSE FALSE FALSE FALSE FALSE FALSE FALSE\n",
       " [13] FALSE FALSE FALSE FALSE FALSE FALSE FALSE FALSE FALSE FALSE FALSE FALSE\n",
       " [25] FALSE FALSE FALSE FALSE FALSE FALSE FALSE FALSE FALSE FALSE FALSE FALSE\n",
       " [37] FALSE FALSE FALSE FALSE FALSE FALSE FALSE FALSE FALSE FALSE FALSE FALSE\n",
       " [49] FALSE FALSE FALSE FALSE FALSE FALSE FALSE FALSE FALSE FALSE FALSE FALSE\n",
       " [61] FALSE FALSE FALSE FALSE FALSE FALSE FALSE FALSE FALSE FALSE FALSE FALSE\n",
       " [73] FALSE FALSE FALSE FALSE FALSE FALSE FALSE FALSE FALSE FALSE FALSE FALSE\n",
       " [85] FALSE FALSE FALSE FALSE FALSE FALSE FALSE FALSE FALSE FALSE FALSE FALSE\n",
       " [97] FALSE FALSE FALSE FALSE"
      ]
     },
     "metadata": {},
     "output_type": "display_data"
    },
    {
     "data": {
      "text/html": [
       "'Elements which are equal to 10.'"
      ],
      "text/latex": [
       "'Elements which are equal to 10.'"
      ],
      "text/markdown": [
       "'Elements which are equal to 10.'"
      ],
      "text/plain": [
       "[1] \"Elements which are equal to 10.\""
      ]
     },
     "metadata": {},
     "output_type": "display_data"
    },
    {
     "data": {
      "text/html": [],
      "text/latex": [],
      "text/markdown": [],
      "text/plain": [
       "integer(0)"
      ]
     },
     "metadata": {},
     "output_type": "display_data"
    },
    {
     "data": {
      "text/html": [
       "'All elements less than 10'"
      ],
      "text/latex": [
       "'All elements less than 10'"
      ],
      "text/markdown": [
       "'All elements less than 10'"
      ],
      "text/plain": [
       "[1] \"All elements less than 10\""
      ]
     },
     "metadata": {},
     "output_type": "display_data"
    },
    {
     "data": {
      "text/html": [
       "<style>\n",
       ".list-inline {list-style: none; margin:0; padding: 0}\n",
       ".list-inline>li {display: inline-block}\n",
       ".list-inline>li:not(:last-child)::after {content: \"\\00b7\"; padding: 0 .5ex}\n",
       "</style>\n",
       "<ol class=list-inline><li>0</li><li>0</li><li>0</li><li>0</li><li>0</li><li>0</li><li>1</li><li>1</li><li>1</li><li>1</li><li>0</li><li>1</li><li>1</li><li>1</li><li>1</li><li>1</li><li>1</li><li>1</li><li>0</li><li>1</li><li>1</li><li>1</li><li>1</li><li>1</li><li>0</li><li>1</li><li>1</li><li>0</li><li>1</li><li>1</li><li>1</li><li>1</li><li>1</li><li>0</li><li>0</li><li>1</li><li>1</li><li>1</li><li>0</li><li>1</li><li>1</li><li>1</li><li>1</li><li>1</li><li>1</li><li>1</li><li>0</li><li>0</li><li>0</li><li>1</li><li>1</li><li>1</li><li>0</li><li>0</li><li>1</li><li>1</li><li>0</li><li>0</li><li>1</li><li>1</li><li>1</li><li>1</li><li>1</li><li>0</li><li>1</li><li>1</li><li>1</li><li>1</li><li>1</li><li>1</li><li>1</li><li>1</li><li>1</li><li>1</li><li>0</li><li>1</li><li>1</li><li>1</li><li>1</li><li>1</li><li>1</li><li>1</li><li>0</li><li>0</li><li>1</li><li>1</li><li>0</li><li>1</li><li>1</li><li>1</li><li>1</li><li>1</li><li>1</li><li>1</li><li>1</li><li>1</li><li>1</li><li>1</li><li>1</li><li>1</li></ol>\n"
      ],
      "text/latex": [
       "\\begin{enumerate*}\n",
       "\\item 0\n",
       "\\item 0\n",
       "\\item 0\n",
       "\\item 0\n",
       "\\item 0\n",
       "\\item 0\n",
       "\\item 1\n",
       "\\item 1\n",
       "\\item 1\n",
       "\\item 1\n",
       "\\item 0\n",
       "\\item 1\n",
       "\\item 1\n",
       "\\item 1\n",
       "\\item 1\n",
       "\\item 1\n",
       "\\item 1\n",
       "\\item 1\n",
       "\\item 0\n",
       "\\item 1\n",
       "\\item 1\n",
       "\\item 1\n",
       "\\item 1\n",
       "\\item 1\n",
       "\\item 0\n",
       "\\item 1\n",
       "\\item 1\n",
       "\\item 0\n",
       "\\item 1\n",
       "\\item 1\n",
       "\\item 1\n",
       "\\item 1\n",
       "\\item 1\n",
       "\\item 0\n",
       "\\item 0\n",
       "\\item 1\n",
       "\\item 1\n",
       "\\item 1\n",
       "\\item 0\n",
       "\\item 1\n",
       "\\item 1\n",
       "\\item 1\n",
       "\\item 1\n",
       "\\item 1\n",
       "\\item 1\n",
       "\\item 1\n",
       "\\item 0\n",
       "\\item 0\n",
       "\\item 0\n",
       "\\item 1\n",
       "\\item 1\n",
       "\\item 1\n",
       "\\item 0\n",
       "\\item 0\n",
       "\\item 1\n",
       "\\item 1\n",
       "\\item 0\n",
       "\\item 0\n",
       "\\item 1\n",
       "\\item 1\n",
       "\\item 1\n",
       "\\item 1\n",
       "\\item 1\n",
       "\\item 0\n",
       "\\item 1\n",
       "\\item 1\n",
       "\\item 1\n",
       "\\item 1\n",
       "\\item 1\n",
       "\\item 1\n",
       "\\item 1\n",
       "\\item 1\n",
       "\\item 1\n",
       "\\item 1\n",
       "\\item 0\n",
       "\\item 1\n",
       "\\item 1\n",
       "\\item 1\n",
       "\\item 1\n",
       "\\item 1\n",
       "\\item 1\n",
       "\\item 1\n",
       "\\item 0\n",
       "\\item 0\n",
       "\\item 1\n",
       "\\item 1\n",
       "\\item 0\n",
       "\\item 1\n",
       "\\item 1\n",
       "\\item 1\n",
       "\\item 1\n",
       "\\item 1\n",
       "\\item 1\n",
       "\\item 1\n",
       "\\item 1\n",
       "\\item 1\n",
       "\\item 1\n",
       "\\item 1\n",
       "\\item 1\n",
       "\\item 1\n",
       "\\end{enumerate*}\n"
      ],
      "text/markdown": [
       "1. 0\n",
       "2. 0\n",
       "3. 0\n",
       "4. 0\n",
       "5. 0\n",
       "6. 0\n",
       "7. 1\n",
       "8. 1\n",
       "9. 1\n",
       "10. 1\n",
       "11. 0\n",
       "12. 1\n",
       "13. 1\n",
       "14. 1\n",
       "15. 1\n",
       "16. 1\n",
       "17. 1\n",
       "18. 1\n",
       "19. 0\n",
       "20. 1\n",
       "21. 1\n",
       "22. 1\n",
       "23. 1\n",
       "24. 1\n",
       "25. 0\n",
       "26. 1\n",
       "27. 1\n",
       "28. 0\n",
       "29. 1\n",
       "30. 1\n",
       "31. 1\n",
       "32. 1\n",
       "33. 1\n",
       "34. 0\n",
       "35. 0\n",
       "36. 1\n",
       "37. 1\n",
       "38. 1\n",
       "39. 0\n",
       "40. 1\n",
       "41. 1\n",
       "42. 1\n",
       "43. 1\n",
       "44. 1\n",
       "45. 1\n",
       "46. 1\n",
       "47. 0\n",
       "48. 0\n",
       "49. 0\n",
       "50. 1\n",
       "51. 1\n",
       "52. 1\n",
       "53. 0\n",
       "54. 0\n",
       "55. 1\n",
       "56. 1\n",
       "57. 0\n",
       "58. 0\n",
       "59. 1\n",
       "60. 1\n",
       "61. 1\n",
       "62. 1\n",
       "63. 1\n",
       "64. 0\n",
       "65. 1\n",
       "66. 1\n",
       "67. 1\n",
       "68. 1\n",
       "69. 1\n",
       "70. 1\n",
       "71. 1\n",
       "72. 1\n",
       "73. 1\n",
       "74. 1\n",
       "75. 0\n",
       "76. 1\n",
       "77. 1\n",
       "78. 1\n",
       "79. 1\n",
       "80. 1\n",
       "81. 1\n",
       "82. 1\n",
       "83. 0\n",
       "84. 0\n",
       "85. 1\n",
       "86. 1\n",
       "87. 0\n",
       "88. 1\n",
       "89. 1\n",
       "90. 1\n",
       "91. 1\n",
       "92. 1\n",
       "93. 1\n",
       "94. 1\n",
       "95. 1\n",
       "96. 1\n",
       "97. 1\n",
       "98. 1\n",
       "99. 1\n",
       "100. 1\n",
       "\n",
       "\n"
      ],
      "text/plain": [
       "  [1] 0 0 0 0 0 0 1 1 1 1 0 1 1 1 1 1 1 1 0 1 1 1 1 1 0 1 1 0 1 1 1 1 1 0 0 1 1\n",
       " [38] 1 0 1 1 1 1 1 1 1 0 0 0 1 1 1 0 0 1 1 0 0 1 1 1 1 1 0 1 1 1 1 1 1 1 1 1 1\n",
       " [75] 0 1 1 1 1 1 1 1 0 0 1 1 0 1 1 1 1 1 1 1 1 1 1 1 1 1"
      ]
     },
     "metadata": {},
     "output_type": "display_data"
    },
    {
     "data": {
      "text/html": [
       "'Elements in the set 1, 2, 5.'"
      ],
      "text/latex": [
       "'Elements in the set 1, 2, 5.'"
      ],
      "text/markdown": [
       "'Elements in the set 1, 2, 5.'"
      ],
      "text/plain": [
       "[1] \"Elements in the set 1, 2, 5.\""
      ]
     },
     "metadata": {},
     "output_type": "display_data"
    },
    {
     "data": {
      "text/html": [
       "<style>\n",
       ".list-inline {list-style: none; margin:0; padding: 0}\n",
       ".list-inline>li {display: inline-block}\n",
       ".list-inline>li:not(:last-child)::after {content: \"\\00b7\"; padding: 0 .5ex}\n",
       "</style>\n",
       "<ol class=list-inline><li>1</li><li>1</li><li>1</li><li>1</li><li>1</li><li>1</li><li>1</li><li>1</li><li>1</li><li>1</li><li>1</li><li>1</li><li>1</li><li>1</li><li>1</li><li>1</li><li>1</li><li>1</li><li>1</li><li>1</li><li>1</li><li>1</li><li>1</li><li>1</li><li>1</li><li>1</li><li>1</li><li>1</li><li>1</li><li>1</li><li>1</li><li>1</li><li>1</li><li>1</li><li>1</li><li>1</li><li>1</li><li>1</li><li>1</li><li>1</li><li>1</li><li>1</li><li>1</li><li>1</li><li>1</li><li>1</li><li>1</li><li>1</li><li>1</li><li>1</li><li>1</li><li>1</li><li>1</li><li>1</li><li>1</li><li>1</li><li>1</li><li>1</li><li>1</li><li>1</li><li>1</li><li>1</li><li>1</li><li>1</li><li>1</li><li>1</li><li>1</li><li>1</li><li>1</li><li>1</li><li>1</li><li>1</li><li>1</li><li>1</li><li>1</li></ol>\n"
      ],
      "text/latex": [
       "\\begin{enumerate*}\n",
       "\\item 1\n",
       "\\item 1\n",
       "\\item 1\n",
       "\\item 1\n",
       "\\item 1\n",
       "\\item 1\n",
       "\\item 1\n",
       "\\item 1\n",
       "\\item 1\n",
       "\\item 1\n",
       "\\item 1\n",
       "\\item 1\n",
       "\\item 1\n",
       "\\item 1\n",
       "\\item 1\n",
       "\\item 1\n",
       "\\item 1\n",
       "\\item 1\n",
       "\\item 1\n",
       "\\item 1\n",
       "\\item 1\n",
       "\\item 1\n",
       "\\item 1\n",
       "\\item 1\n",
       "\\item 1\n",
       "\\item 1\n",
       "\\item 1\n",
       "\\item 1\n",
       "\\item 1\n",
       "\\item 1\n",
       "\\item 1\n",
       "\\item 1\n",
       "\\item 1\n",
       "\\item 1\n",
       "\\item 1\n",
       "\\item 1\n",
       "\\item 1\n",
       "\\item 1\n",
       "\\item 1\n",
       "\\item 1\n",
       "\\item 1\n",
       "\\item 1\n",
       "\\item 1\n",
       "\\item 1\n",
       "\\item 1\n",
       "\\item 1\n",
       "\\item 1\n",
       "\\item 1\n",
       "\\item 1\n",
       "\\item 1\n",
       "\\item 1\n",
       "\\item 1\n",
       "\\item 1\n",
       "\\item 1\n",
       "\\item 1\n",
       "\\item 1\n",
       "\\item 1\n",
       "\\item 1\n",
       "\\item 1\n",
       "\\item 1\n",
       "\\item 1\n",
       "\\item 1\n",
       "\\item 1\n",
       "\\item 1\n",
       "\\item 1\n",
       "\\item 1\n",
       "\\item 1\n",
       "\\item 1\n",
       "\\item 1\n",
       "\\item 1\n",
       "\\item 1\n",
       "\\item 1\n",
       "\\item 1\n",
       "\\item 1\n",
       "\\item 1\n",
       "\\end{enumerate*}\n"
      ],
      "text/markdown": [
       "1. 1\n",
       "2. 1\n",
       "3. 1\n",
       "4. 1\n",
       "5. 1\n",
       "6. 1\n",
       "7. 1\n",
       "8. 1\n",
       "9. 1\n",
       "10. 1\n",
       "11. 1\n",
       "12. 1\n",
       "13. 1\n",
       "14. 1\n",
       "15. 1\n",
       "16. 1\n",
       "17. 1\n",
       "18. 1\n",
       "19. 1\n",
       "20. 1\n",
       "21. 1\n",
       "22. 1\n",
       "23. 1\n",
       "24. 1\n",
       "25. 1\n",
       "26. 1\n",
       "27. 1\n",
       "28. 1\n",
       "29. 1\n",
       "30. 1\n",
       "31. 1\n",
       "32. 1\n",
       "33. 1\n",
       "34. 1\n",
       "35. 1\n",
       "36. 1\n",
       "37. 1\n",
       "38. 1\n",
       "39. 1\n",
       "40. 1\n",
       "41. 1\n",
       "42. 1\n",
       "43. 1\n",
       "44. 1\n",
       "45. 1\n",
       "46. 1\n",
       "47. 1\n",
       "48. 1\n",
       "49. 1\n",
       "50. 1\n",
       "51. 1\n",
       "52. 1\n",
       "53. 1\n",
       "54. 1\n",
       "55. 1\n",
       "56. 1\n",
       "57. 1\n",
       "58. 1\n",
       "59. 1\n",
       "60. 1\n",
       "61. 1\n",
       "62. 1\n",
       "63. 1\n",
       "64. 1\n",
       "65. 1\n",
       "66. 1\n",
       "67. 1\n",
       "68. 1\n",
       "69. 1\n",
       "70. 1\n",
       "71. 1\n",
       "72. 1\n",
       "73. 1\n",
       "74. 1\n",
       "75. 1\n",
       "\n",
       "\n"
      ],
      "text/plain": [
       " [1] 1 1 1 1 1 1 1 1 1 1 1 1 1 1 1 1 1 1 1 1 1 1 1 1 1 1 1 1 1 1 1 1 1 1 1 1 1 1\n",
       "[39] 1 1 1 1 1 1 1 1 1 1 1 1 1 1 1 1 1 1 1 1 1 1 1 1 1 1 1 1 1 1 1 1 1 1 1 1 1"
      ]
     },
     "metadata": {},
     "output_type": "display_data"
    }
   ],
   "source": [
    "# let's remove the names now...\n",
    "names(x) <- c()\n",
    "\n",
    "\"Elements positions which are equal to 10.\"\n",
    "x == 10\n",
    "\n",
    "\"Elements which are equal to 10.\"\n",
    "x[x == 10] \n",
    "\n",
    "\"All elements less than 10\"\n",
    "x[x < 10] \n",
    "\n",
    "\"Elements in the set 1, 2, 5.\"\n",
    "x[x %in% c(1, 2, 5)]\n"
   ]
  },
  {
   "cell_type": "markdown",
   "metadata": {},
   "source": [
    "This seems a little counterintuitive (some other languages do not possess this property), but it is very useful. For example, you can modify a vector (and also other higher datatypes) in *one shot*:\n"
   ]
  },
  {
   "cell_type": "code",
   "execution_count": 18,
   "metadata": {},
   "outputs": [
    {
     "data": {
      "text/html": [
       "'Print x'"
      ],
      "text/latex": [
       "'Print x'"
      ],
      "text/markdown": [
       "'Print x'"
      ],
      "text/plain": [
       "[1] \"Print x\""
      ]
     },
     "metadata": {},
     "output_type": "display_data"
    },
    {
     "data": {
      "text/html": [
       "<style>\n",
       ".list-inline {list-style: none; margin:0; padding: 0}\n",
       ".list-inline>li {display: inline-block}\n",
       ".list-inline>li:not(:last-child)::after {content: \"\\00b7\"; padding: 0 .5ex}\n",
       "</style>\n",
       "<ol class=list-inline><li>1</li><li>2</li><li>3</li><li>4</li><li>5</li><li>6</li><li>7</li><li>8</li><li>9</li><li>10</li></ol>\n"
      ],
      "text/latex": [
       "\\begin{enumerate*}\n",
       "\\item 1\n",
       "\\item 2\n",
       "\\item 3\n",
       "\\item 4\n",
       "\\item 5\n",
       "\\item 6\n",
       "\\item 7\n",
       "\\item 8\n",
       "\\item 9\n",
       "\\item 10\n",
       "\\end{enumerate*}\n"
      ],
      "text/markdown": [
       "1. 1\n",
       "2. 2\n",
       "3. 3\n",
       "4. 4\n",
       "5. 5\n",
       "6. 6\n",
       "7. 7\n",
       "8. 8\n",
       "9. 9\n",
       "10. 10\n",
       "\n",
       "\n"
      ],
      "text/plain": [
       " [1]  1  2  3  4  5  6  7  8  9 10"
      ]
     },
     "metadata": {},
     "output_type": "display_data"
    },
    {
     "data": {
      "text/html": [
       "'Print the elements lower than 5'"
      ],
      "text/latex": [
       "'Print the elements lower than 5'"
      ],
      "text/markdown": [
       "'Print the elements lower than 5'"
      ],
      "text/plain": [
       "[1] \"Print the elements lower than 5\""
      ]
     },
     "metadata": {},
     "output_type": "display_data"
    },
    {
     "data": {
      "text/html": [
       "<style>\n",
       ".list-inline {list-style: none; margin:0; padding: 0}\n",
       ".list-inline>li {display: inline-block}\n",
       ".list-inline>li:not(:last-child)::after {content: \"\\00b7\"; padding: 0 .5ex}\n",
       "</style>\n",
       "<ol class=list-inline><li>1</li><li>2</li><li>3</li><li>4</li></ol>\n"
      ],
      "text/latex": [
       "\\begin{enumerate*}\n",
       "\\item 1\n",
       "\\item 2\n",
       "\\item 3\n",
       "\\item 4\n",
       "\\end{enumerate*}\n"
      ],
      "text/markdown": [
       "1. 1\n",
       "2. 2\n",
       "3. 3\n",
       "4. 4\n",
       "\n",
       "\n"
      ],
      "text/plain": [
       "[1] 1 2 3 4"
      ]
     },
     "metadata": {},
     "output_type": "display_data"
    },
    {
     "data": {
      "text/html": [
       "'Set the elements lower than 5 to zero'"
      ],
      "text/latex": [
       "'Set the elements lower than 5 to zero'"
      ],
      "text/markdown": [
       "'Set the elements lower than 5 to zero'"
      ],
      "text/plain": [
       "[1] \"Set the elements lower than 5 to zero\""
      ]
     },
     "metadata": {},
     "output_type": "display_data"
    },
    {
     "data": {
      "text/html": [
       "<style>\n",
       ".list-inline {list-style: none; margin:0; padding: 0}\n",
       ".list-inline>li {display: inline-block}\n",
       ".list-inline>li:not(:last-child)::after {content: \"\\00b7\"; padding: 0 .5ex}\n",
       "</style>\n",
       "<ol class=list-inline><li>0</li><li>0</li><li>0</li><li>0</li><li>5</li><li>6</li><li>7</li><li>8</li><li>9</li><li>10</li></ol>\n"
      ],
      "text/latex": [
       "\\begin{enumerate*}\n",
       "\\item 0\n",
       "\\item 0\n",
       "\\item 0\n",
       "\\item 0\n",
       "\\item 5\n",
       "\\item 6\n",
       "\\item 7\n",
       "\\item 8\n",
       "\\item 9\n",
       "\\item 10\n",
       "\\end{enumerate*}\n"
      ],
      "text/markdown": [
       "1. 0\n",
       "2. 0\n",
       "3. 0\n",
       "4. 0\n",
       "5. 5\n",
       "6. 6\n",
       "7. 7\n",
       "8. 8\n",
       "9. 9\n",
       "10. 10\n",
       "\n",
       "\n"
      ],
      "text/plain": [
       " [1]  0  0  0  0  5  6  7  8  9 10"
      ]
     },
     "metadata": {},
     "output_type": "display_data"
    },
    {
     "data": {
      "text/html": [
       "'Turn the vector elements into percentages, and round them to 2 decimal points'"
      ],
      "text/latex": [
       "'Turn the vector elements into percentages, and round them to 2 decimal points'"
      ],
      "text/markdown": [
       "'Turn the vector elements into percentages, and round them to 2 decimal points'"
      ],
      "text/plain": [
       "[1] \"Turn the vector elements into percentages, and round them to 2 decimal points\""
      ]
     },
     "metadata": {},
     "output_type": "display_data"
    },
    {
     "data": {
      "text/html": [
       "<style>\n",
       ".list-inline {list-style: none; margin:0; padding: 0}\n",
       ".list-inline>li {display: inline-block}\n",
       ".list-inline>li:not(:last-child)::after {content: \"\\00b7\"; padding: 0 .5ex}\n",
       "</style>\n",
       "<ol class=list-inline><li>0</li><li>0</li><li>0</li><li>0</li><li>11.11</li><li>13.33</li><li>15.56</li><li>17.78</li><li>20</li><li>22.22</li></ol>\n"
      ],
      "text/latex": [
       "\\begin{enumerate*}\n",
       "\\item 0\n",
       "\\item 0\n",
       "\\item 0\n",
       "\\item 0\n",
       "\\item 11.11\n",
       "\\item 13.33\n",
       "\\item 15.56\n",
       "\\item 17.78\n",
       "\\item 20\n",
       "\\item 22.22\n",
       "\\end{enumerate*}\n"
      ],
      "text/markdown": [
       "1. 0\n",
       "2. 0\n",
       "3. 0\n",
       "4. 0\n",
       "5. 11.11\n",
       "6. 13.33\n",
       "7. 15.56\n",
       "8. 17.78\n",
       "9. 20\n",
       "10. 22.22\n",
       "\n",
       "\n"
      ],
      "text/plain": [
       " [1]  0.00  0.00  0.00  0.00 11.11 13.33 15.56 17.78 20.00 22.22"
      ]
     },
     "metadata": {},
     "output_type": "display_data"
    }
   ],
   "source": [
    "x <- 1:10\n",
    "\n",
    "\"Print x\"\n",
    "x\n",
    "\n",
    "\"Print the elements lower than 5\"\n",
    "x[x < 5]\n",
    "\n",
    "\"Set the elements lower than 5 to zero\"\n",
    "x[x < 5] <- 0\n",
    "\n",
    "x\n",
    "\n",
    "\"Turn the vector elements into percentages, and round them to 2 decimal points\"\n",
    "round(x / sum(x) * 100, 2)"
   ]
  },
  {
   "cell_type": "markdown",
   "metadata": {},
   "source": [
    "### Vectorization and plotting\n",
    "\n",
    "Vectorization can be extremely useful for plotting. In this example we are going to sample from a normal distrution (or gaussian distrubtion, the one that creates a bell curve). We plot it as historgram, scatterplot and boxplot. We also is vectorization to turn the samples into a random walk."
   ]
  },
  {
   "cell_type": "code",
   "execution_count": 19,
   "metadata": {},
   "outputs": [
    {
     "data": {
      "image/png": "[encoded data removed]",
      "text/plain": [
       "Plot with title “Histogram of x”"
      ]
     },
     "metadata": {
      "image/png": {
       "height": 420,
       "width": 420
      }
     },
     "output_type": "display_data"
    }
   ],
   "source": [
    "\n",
    "# Sample 1000 points from the normal distribution with mean zero and stadard deviation 1\"\n",
    "x <- rnorm(n = 1000, mean = 0, sd = 1)\n",
    "# Turn into a random walk. We can do it by apply a cumulative sum to the previous vector. \n",
    "# A cumulative sum is another vector where each element is the sum of all the previous elements\n",
    "rw <- cumsum(x)\n",
    "\n",
    "# let's prepare a 2 by 2 plot\n",
    "par(mfrow = c(2,2))\n",
    "# plot the vector as scatterplot, histogram and boxplot\n",
    "plot(x)\n",
    "hist(x)\n",
    "boxplot(x)\n",
    "# plot the random walk as lines\n",
    "plot(rw, type=\"l\")"
   ]
  },
  {
   "cell_type": "markdown",
   "metadata": {},
   "source": [
    "## Matrix\n",
    "\n",
    "Matrices are just 2-dimensional vector, nothing special really.....They are a collection of elements of the same data type (numeric, character, or logical) arranged into a fixed number of rows and columns. "
   ]
  },
  {
   "cell_type": "code",
   "execution_count": 20,
   "metadata": {},
   "outputs": [
    {
     "data": {
      "text/html": [
       "'Print the matrix'"
      ],
      "text/latex": [
       "'Print the matrix'"
      ],
      "text/markdown": [
       "'Print the matrix'"
      ],
      "text/plain": [
       "[1] \"Print the matrix\""
      ]
     },
     "metadata": {},
     "output_type": "display_data"
    },
    {
     "data": {
      "text/html": [
       "<table>\n",
       "<caption>A matrix: 3 × 3 of type int</caption>\n",
       "<tbody>\n",
       "\t<tr><td>1</td><td>4</td><td>7</td></tr>\n",
       "\t<tr><td>2</td><td>5</td><td>8</td></tr>\n",
       "\t<tr><td>3</td><td>6</td><td>9</td></tr>\n",
       "</tbody>\n",
       "</table>\n"
      ],
      "text/latex": [
       "A matrix: 3 × 3 of type int\n",
       "\\begin{tabular}{lll}\n",
       "\t 1 & 4 & 7\\\\\n",
       "\t 2 & 5 & 8\\\\\n",
       "\t 3 & 6 & 9\\\\\n",
       "\\end{tabular}\n"
      ],
      "text/markdown": [
       "\n",
       "A matrix: 3 × 3 of type int\n",
       "\n",
       "| 1 | 4 | 7 |\n",
       "| 2 | 5 | 8 |\n",
       "| 3 | 6 | 9 |\n",
       "\n"
      ],
      "text/plain": [
       "     [,1] [,2] [,3]\n",
       "[1,] 1    4    7   \n",
       "[2,] 2    5    8   \n",
       "[3,] 3    6    9   "
      ]
     },
     "metadata": {},
     "output_type": "display_data"
    },
    {
     "data": {
      "text/html": [
       "'Print the matrix by row'"
      ],
      "text/latex": [
       "'Print the matrix by row'"
      ],
      "text/markdown": [
       "'Print the matrix by row'"
      ],
      "text/plain": [
       "[1] \"Print the matrix by row\""
      ]
     },
     "metadata": {},
     "output_type": "display_data"
    },
    {
     "data": {
      "text/html": [
       "<table>\n",
       "<caption>A matrix: 3 × 3 of type int</caption>\n",
       "<tbody>\n",
       "\t<tr><td>1</td><td>2</td><td>3</td></tr>\n",
       "\t<tr><td>4</td><td>5</td><td>6</td></tr>\n",
       "\t<tr><td>7</td><td>8</td><td>9</td></tr>\n",
       "</tbody>\n",
       "</table>\n"
      ],
      "text/latex": [
       "A matrix: 3 × 3 of type int\n",
       "\\begin{tabular}{lll}\n",
       "\t 1 & 2 & 3\\\\\n",
       "\t 4 & 5 & 6\\\\\n",
       "\t 7 & 8 & 9\\\\\n",
       "\\end{tabular}\n"
      ],
      "text/markdown": [
       "\n",
       "A matrix: 3 × 3 of type int\n",
       "\n",
       "| 1 | 2 | 3 |\n",
       "| 4 | 5 | 6 |\n",
       "| 7 | 8 | 9 |\n",
       "\n"
      ],
      "text/plain": [
       "     [,1] [,2] [,3]\n",
       "[1,] 1    2    3   \n",
       "[2,] 4    5    6   \n",
       "[3,] 7    8    9   "
      ]
     },
     "metadata": {},
     "output_type": "display_data"
    }
   ],
   "source": [
    "# There are several way to create a matrix, one is to turn a vector into a matrix\n",
    "x <- 1:9\n",
    "m <- matrix(x, nrow = 3, ncol = 3)\n",
    "\n",
    "\"Print the matrix\"\n",
    "m\n",
    "\n",
    "# by default elements are entered into the matrix by column, but you can do it by row\n",
    "m <- matrix(x, nrow = 3, ncol = 3, byrow = T)\n",
    "\n",
    "\"Print the matrix by row\"\n",
    "m\n",
    "\n"
   ]
  },
  {
   "cell_type": "markdown",
   "metadata": {},
   "source": [
    "### Subsetting matrices\n",
    "\n",
    "matrices can be easily subsetted by their indices. \\\\\n",
    "*Warning: selecting only one row or column automatically returns a vector, which can produce later undesired results. use drop=F to avoid this"
   ]
  },
  {
   "cell_type": "code",
   "execution_count": 21,
   "metadata": {},
   "outputs": [
    {
     "data": {
      "text/html": [
       "'Get the element in position 1, 2'"
      ],
      "text/latex": [
       "'Get the element in position 1, 2'"
      ],
      "text/markdown": [
       "'Get the element in position 1, 2'"
      ],
      "text/plain": [
       "[1] \"Get the element in position 1, 2\""
      ]
     },
     "metadata": {},
     "output_type": "display_data"
    },
    {
     "data": {
      "text/html": [
       "2"
      ],
      "text/latex": [
       "2"
      ],
      "text/markdown": [
       "2"
      ],
      "text/plain": [
       "[1] 2"
      ]
     },
     "metadata": {},
     "output_type": "display_data"
    },
    {
     "data": {
      "text/html": [
       "'Get the first row (be careful, the result is a vector, use drop=F to avoid it)'"
      ],
      "text/latex": [
       "'Get the first row (be careful, the result is a vector, use drop=F to avoid it)'"
      ],
      "text/markdown": [
       "'Get the first row (be careful, the result is a vector, use drop=F to avoid it)'"
      ],
      "text/plain": [
       "[1] \"Get the first row (be careful, the result is a vector, use drop=F to avoid it)\""
      ]
     },
     "metadata": {},
     "output_type": "display_data"
    },
    {
     "data": {
      "text/html": [
       "<style>\n",
       ".list-inline {list-style: none; margin:0; padding: 0}\n",
       ".list-inline>li {display: inline-block}\n",
       ".list-inline>li:not(:last-child)::after {content: \"\\00b7\"; padding: 0 .5ex}\n",
       "</style>\n",
       "<ol class=list-inline><li>1</li><li>2</li><li>3</li></ol>\n"
      ],
      "text/latex": [
       "\\begin{enumerate*}\n",
       "\\item 1\n",
       "\\item 2\n",
       "\\item 3\n",
       "\\end{enumerate*}\n"
      ],
      "text/markdown": [
       "1. 1\n",
       "2. 2\n",
       "3. 3\n",
       "\n",
       "\n"
      ],
      "text/plain": [
       "[1] 1 2 3"
      ]
     },
     "metadata": {},
     "output_type": "display_data"
    },
    {
     "data": {
      "text/html": [
       "'integer'"
      ],
      "text/latex": [
       "'integer'"
      ],
      "text/markdown": [
       "'integer'"
      ],
      "text/plain": [
       "[1] \"integer\""
      ]
     },
     "metadata": {},
     "output_type": "display_data"
    },
    {
     "data": {
      "text/html": [
       "<style>\n",
       ".list-inline {list-style: none; margin:0; padding: 0}\n",
       ".list-inline>li {display: inline-block}\n",
       ".list-inline>li:not(:last-child)::after {content: \"\\00b7\"; padding: 0 .5ex}\n",
       "</style>\n",
       "<ol class=list-inline><li>'matrix'</li><li>'array'</li></ol>\n"
      ],
      "text/latex": [
       "\\begin{enumerate*}\n",
       "\\item 'matrix'\n",
       "\\item 'array'\n",
       "\\end{enumerate*}\n"
      ],
      "text/markdown": [
       "1. 'matrix'\n",
       "2. 'array'\n",
       "\n",
       "\n"
      ],
      "text/plain": [
       "[1] \"matrix\" \"array\" "
      ]
     },
     "metadata": {},
     "output_type": "display_data"
    },
    {
     "data": {
      "text/html": [
       "'Get the the second and third column'"
      ],
      "text/latex": [
       "'Get the the second and third column'"
      ],
      "text/markdown": [
       "'Get the the second and third column'"
      ],
      "text/plain": [
       "[1] \"Get the the second and third column\""
      ]
     },
     "metadata": {},
     "output_type": "display_data"
    },
    {
     "data": {
      "text/html": [
       "<table>\n",
       "<caption>A matrix: 3 × 2 of type int</caption>\n",
       "<tbody>\n",
       "\t<tr><td>2</td><td>3</td></tr>\n",
       "\t<tr><td>5</td><td>6</td></tr>\n",
       "\t<tr><td>8</td><td>9</td></tr>\n",
       "</tbody>\n",
       "</table>\n"
      ],
      "text/latex": [
       "A matrix: 3 × 2 of type int\n",
       "\\begin{tabular}{ll}\n",
       "\t 2 & 3\\\\\n",
       "\t 5 & 6\\\\\n",
       "\t 8 & 9\\\\\n",
       "\\end{tabular}\n"
      ],
      "text/markdown": [
       "\n",
       "A matrix: 3 × 2 of type int\n",
       "\n",
       "| 2 | 3 |\n",
       "| 5 | 6 |\n",
       "| 8 | 9 |\n",
       "\n"
      ],
      "text/plain": [
       "     [,1] [,2]\n",
       "[1,] 2    3   \n",
       "[2,] 5    6   \n",
       "[3,] 8    9   "
      ]
     },
     "metadata": {},
     "output_type": "display_data"
    }
   ],
   "source": [
    "\"Get the element in position 1, 2\"\n",
    "m[1, 2]\n",
    "\n",
    "\"Get the first row (be careful, the result is a vector, use drop=F to avoid it)\"\n",
    "m[1, ]\n",
    "class(m[1,])\n",
    "class(m[1,,drop=F])\n",
    "\n",
    "\"Get the the second and third column\"\n",
    "m[, 2:3]\n"
   ]
  },
  {
   "cell_type": "markdown",
   "metadata": {},
   "source": [
    "### Matrix algebra operations\n",
    "\n",
    "Matrices can be used to do any kind of algebraic operation.\n",
    "\n",
    "check more at: https://www.statmethods.net/advstats/matrix.html"
   ]
  },
  {
   "cell_type": "code",
   "execution_count": 22,
   "metadata": {},
   "outputs": [
    {
     "data": {
      "text/html": [
       "'Matrix multiplication'"
      ],
      "text/latex": [
       "'Matrix multiplication'"
      ],
      "text/markdown": [
       "'Matrix multiplication'"
      ],
      "text/plain": [
       "[1] \"Matrix multiplication\""
      ]
     },
     "metadata": {},
     "output_type": "display_data"
    },
    {
     "data": {
      "text/html": [
       "<table>\n",
       "<caption>A matrix: 3 × 3 of type dbl</caption>\n",
       "<tbody>\n",
       "\t<tr><td> 30</td><td> 36</td><td> 42</td></tr>\n",
       "\t<tr><td> 66</td><td> 81</td><td> 96</td></tr>\n",
       "\t<tr><td>102</td><td>126</td><td>150</td></tr>\n",
       "</tbody>\n",
       "</table>\n"
      ],
      "text/latex": [
       "A matrix: 3 × 3 of type dbl\n",
       "\\begin{tabular}{lll}\n",
       "\t  30 &  36 &  42\\\\\n",
       "\t  66 &  81 &  96\\\\\n",
       "\t 102 & 126 & 150\\\\\n",
       "\\end{tabular}\n"
      ],
      "text/markdown": [
       "\n",
       "A matrix: 3 × 3 of type dbl\n",
       "\n",
       "|  30 |  36 |  42 |\n",
       "|  66 |  81 |  96 |\n",
       "| 102 | 126 | 150 |\n",
       "\n"
      ],
      "text/plain": [
       "     [,1] [,2] [,3]\n",
       "[1,]  30   36   42 \n",
       "[2,]  66   81   96 \n",
       "[3,] 102  126  150 "
      ]
     },
     "metadata": {},
     "output_type": "display_data"
    },
    {
     "data": {
      "text/html": [
       "'transpose'"
      ],
      "text/latex": [
       "'transpose'"
      ],
      "text/markdown": [
       "'transpose'"
      ],
      "text/plain": [
       "[1] \"transpose\""
      ]
     },
     "metadata": {},
     "output_type": "display_data"
    },
    {
     "data": {
      "text/html": [
       "<table>\n",
       "<caption>A matrix: 3 × 3 of type int</caption>\n",
       "<tbody>\n",
       "\t<tr><td>1</td><td>4</td><td>7</td></tr>\n",
       "\t<tr><td>2</td><td>5</td><td>8</td></tr>\n",
       "\t<tr><td>3</td><td>6</td><td>9</td></tr>\n",
       "</tbody>\n",
       "</table>\n"
      ],
      "text/latex": [
       "A matrix: 3 × 3 of type int\n",
       "\\begin{tabular}{lll}\n",
       "\t 1 & 4 & 7\\\\\n",
       "\t 2 & 5 & 8\\\\\n",
       "\t 3 & 6 & 9\\\\\n",
       "\\end{tabular}\n"
      ],
      "text/markdown": [
       "\n",
       "A matrix: 3 × 3 of type int\n",
       "\n",
       "| 1 | 4 | 7 |\n",
       "| 2 | 5 | 8 |\n",
       "| 3 | 6 | 9 |\n",
       "\n"
      ],
      "text/plain": [
       "     [,1] [,2] [,3]\n",
       "[1,] 1    4    7   \n",
       "[2,] 2    5    8   \n",
       "[3,] 3    6    9   "
      ]
     },
     "metadata": {},
     "output_type": "display_data"
    },
    {
     "data": {
      "text/html": [
       "'Determinant'"
      ],
      "text/latex": [
       "'Determinant'"
      ],
      "text/markdown": [
       "'Determinant'"
      ],
      "text/plain": [
       "[1] \"Determinant\""
      ]
     },
     "metadata": {},
     "output_type": "display_data"
    },
    {
     "data": {
      "text/html": [
       "6.66133814775094e-16"
      ],
      "text/latex": [
       "6.66133814775094e-16"
      ],
      "text/markdown": [
       "6.66133814775094e-16"
      ],
      "text/plain": [
       "[1] 6.661338e-16"
      ]
     },
     "metadata": {},
     "output_type": "display_data"
    },
    {
     "data": {
      "text/html": [
       "'Sum of the rows'"
      ],
      "text/latex": [
       "'Sum of the rows'"
      ],
      "text/markdown": [
       "'Sum of the rows'"
      ],
      "text/plain": [
       "[1] \"Sum of the rows\""
      ]
     },
     "metadata": {},
     "output_type": "display_data"
    },
    {
     "data": {
      "text/html": [
       "<style>\n",
       ".list-inline {list-style: none; margin:0; padding: 0}\n",
       ".list-inline>li {display: inline-block}\n",
       ".list-inline>li:not(:last-child)::after {content: \"\\00b7\"; padding: 0 .5ex}\n",
       "</style>\n",
       "<ol class=list-inline><li>6</li><li>15</li><li>24</li></ol>\n"
      ],
      "text/latex": [
       "\\begin{enumerate*}\n",
       "\\item 6\n",
       "\\item 15\n",
       "\\item 24\n",
       "\\end{enumerate*}\n"
      ],
      "text/markdown": [
       "1. 6\n",
       "2. 15\n",
       "3. 24\n",
       "\n",
       "\n"
      ],
      "text/plain": [
       "[1]  6 15 24"
      ]
     },
     "metadata": {},
     "output_type": "display_data"
    }
   ],
   "source": [
    "\"Matrix multiplication\"\n",
    "m %*% m\n",
    "\n",
    "\"transpose\"\n",
    "t(m)\n",
    "\n",
    "\"Determinant\"\n",
    "det(m)\n",
    "\n",
    "\"Sum of the rows\"\n",
    "rowSums(m)"
   ]
  },
  {
   "cell_type": "markdown",
   "metadata": {},
   "source": [
    "### Manipulating matrices\n",
    "\n",
    "You can add rows and columns with rbind() and cbind()\n",
    "\n"
   ]
  },
  {
   "cell_type": "code",
   "execution_count": 23,
   "metadata": {},
   "outputs": [
    {
     "data": {
      "text/html": [
       "'Add a row'"
      ],
      "text/latex": [
       "'Add a row'"
      ],
      "text/markdown": [
       "'Add a row'"
      ],
      "text/plain": [
       "[1] \"Add a row\""
      ]
     },
     "metadata": {},
     "output_type": "display_data"
    },
    {
     "data": {
      "text/html": [
       "<table>\n",
       "<caption>A matrix: 4 × 3 of type dbl</caption>\n",
       "<tbody>\n",
       "\t<tr><td> 1</td><td> 2</td><td> 3</td></tr>\n",
       "\t<tr><td> 4</td><td> 5</td><td> 6</td></tr>\n",
       "\t<tr><td> 7</td><td> 8</td><td> 9</td></tr>\n",
       "\t<tr><td>10</td><td>10</td><td>10</td></tr>\n",
       "</tbody>\n",
       "</table>\n"
      ],
      "text/latex": [
       "A matrix: 4 × 3 of type dbl\n",
       "\\begin{tabular}{lll}\n",
       "\t  1 &  2 &  3\\\\\n",
       "\t  4 &  5 &  6\\\\\n",
       "\t  7 &  8 &  9\\\\\n",
       "\t 10 & 10 & 10\\\\\n",
       "\\end{tabular}\n"
      ],
      "text/markdown": [
       "\n",
       "A matrix: 4 × 3 of type dbl\n",
       "\n",
       "|  1 |  2 |  3 |\n",
       "|  4 |  5 |  6 |\n",
       "|  7 |  8 |  9 |\n",
       "| 10 | 10 | 10 |\n",
       "\n"
      ],
      "text/plain": [
       "     [,1] [,2] [,3]\n",
       "[1,]  1    2    3  \n",
       "[2,]  4    5    6  \n",
       "[3,]  7    8    9  \n",
       "[4,] 10   10   10  "
      ]
     },
     "metadata": {},
     "output_type": "display_data"
    },
    {
     "data": {
      "text/html": [
       "'Add a column'"
      ],
      "text/latex": [
       "'Add a column'"
      ],
      "text/markdown": [
       "'Add a column'"
      ],
      "text/plain": [
       "[1] \"Add a column\""
      ]
     },
     "metadata": {},
     "output_type": "display_data"
    },
    {
     "data": {
      "text/html": [
       "<table>\n",
       "<caption>A matrix: 3 × 4 of type dbl</caption>\n",
       "<tbody>\n",
       "\t<tr><td>1</td><td>2</td><td>3</td><td>10</td></tr>\n",
       "\t<tr><td>4</td><td>5</td><td>6</td><td>10</td></tr>\n",
       "\t<tr><td>7</td><td>8</td><td>9</td><td>10</td></tr>\n",
       "</tbody>\n",
       "</table>\n"
      ],
      "text/latex": [
       "A matrix: 3 × 4 of type dbl\n",
       "\\begin{tabular}{llll}\n",
       "\t 1 & 2 & 3 & 10\\\\\n",
       "\t 4 & 5 & 6 & 10\\\\\n",
       "\t 7 & 8 & 9 & 10\\\\\n",
       "\\end{tabular}\n"
      ],
      "text/markdown": [
       "\n",
       "A matrix: 3 × 4 of type dbl\n",
       "\n",
       "| 1 | 2 | 3 | 10 |\n",
       "| 4 | 5 | 6 | 10 |\n",
       "| 7 | 8 | 9 | 10 |\n",
       "\n"
      ],
      "text/plain": [
       "     [,1] [,2] [,3] [,4]\n",
       "[1,] 1    2    3    10  \n",
       "[2,] 4    5    6    10  \n",
       "[3,] 7    8    9    10  "
      ]
     },
     "metadata": {},
     "output_type": "display_data"
    },
    {
     "data": {
      "text/html": [
       "'join two matrices by rows'"
      ],
      "text/latex": [
       "'join two matrices by rows'"
      ],
      "text/markdown": [
       "'join two matrices by rows'"
      ],
      "text/plain": [
       "[1] \"join two matrices by rows\""
      ]
     },
     "metadata": {},
     "output_type": "display_data"
    },
    {
     "data": {
      "text/html": [
       "<table>\n",
       "<caption>A matrix: 6 × 3 of type int</caption>\n",
       "<tbody>\n",
       "\t<tr><td>1</td><td>2</td><td>3</td></tr>\n",
       "\t<tr><td>4</td><td>5</td><td>6</td></tr>\n",
       "\t<tr><td>7</td><td>8</td><td>9</td></tr>\n",
       "\t<tr><td>1</td><td>2</td><td>3</td></tr>\n",
       "\t<tr><td>4</td><td>5</td><td>6</td></tr>\n",
       "\t<tr><td>7</td><td>8</td><td>9</td></tr>\n",
       "</tbody>\n",
       "</table>\n"
      ],
      "text/latex": [
       "A matrix: 6 × 3 of type int\n",
       "\\begin{tabular}{lll}\n",
       "\t 1 & 2 & 3\\\\\n",
       "\t 4 & 5 & 6\\\\\n",
       "\t 7 & 8 & 9\\\\\n",
       "\t 1 & 2 & 3\\\\\n",
       "\t 4 & 5 & 6\\\\\n",
       "\t 7 & 8 & 9\\\\\n",
       "\\end{tabular}\n"
      ],
      "text/markdown": [
       "\n",
       "A matrix: 6 × 3 of type int\n",
       "\n",
       "| 1 | 2 | 3 |\n",
       "| 4 | 5 | 6 |\n",
       "| 7 | 8 | 9 |\n",
       "| 1 | 2 | 3 |\n",
       "| 4 | 5 | 6 |\n",
       "| 7 | 8 | 9 |\n",
       "\n"
      ],
      "text/plain": [
       "     [,1] [,2] [,3]\n",
       "[1,] 1    2    3   \n",
       "[2,] 4    5    6   \n",
       "[3,] 7    8    9   \n",
       "[4,] 1    2    3   \n",
       "[5,] 4    5    6   \n",
       "[6,] 7    8    9   "
      ]
     },
     "metadata": {},
     "output_type": "display_data"
    }
   ],
   "source": [
    "\"Add a row\"\n",
    "rbind(m, c(10, 10, 10))\n",
    "\n",
    "\"Add a column\"\n",
    "cbind(m, c(10, 10, 10))\n",
    "\n",
    "\"join two matrices by rows\"\n",
    "rbind(m, m)"
   ]
  },
  {
   "cell_type": "markdown",
   "metadata": {},
   "source": [
    "## Lists\n",
    "\n",
    "List are like vector but they can **contain elements of different types**. <br>\n",
    "A list can be used to store for example a person's features (height, weight, name, birth date....), which are of different types.<br>\n",
    "Of course lists cannot be used for algebraic operations like vectors"
   ]
  },
  {
   "cell_type": "code",
   "execution_count": 24,
   "metadata": {},
   "outputs": [
    {
     "data": {
      "text/html": [
       "<dl>\n",
       "\t<dt>$Name</dt>\n",
       "\t\t<dd>'Pepe'</dd>\n",
       "\t<dt>$Height</dt>\n",
       "\t\t<dd>'180'</dd>\n",
       "\t<dt>$Birth</dt>\n",
       "\t\t<dd><time datetime=\"5-05-19\">5-05-19</time></dd>\n",
       "\t<dt>$Pets</dt>\n",
       "\t\t<dd><style>\n",
       ".list-inline {list-style: none; margin:0; padding: 0}\n",
       ".list-inline>li {display: inline-block}\n",
       ".list-inline>li:not(:last-child)::after {content: \"\\00b7\"; padding: 0 .5ex}\n",
       "</style>\n",
       "<ol class=list-inline><li>'gato1'</li><li>'gato2'</li><li>'perro1'</li></ol>\n",
       "</dd>\n",
       "</dl>\n"
      ],
      "text/latex": [
       "\\begin{description}\n",
       "\\item[\\$Name] 'Pepe'\n",
       "\\item[\\$Height] '180'\n",
       "\\item[\\$Birth] 5-05-19\n",
       "\\item[\\$Pets] \\begin{enumerate*}\n",
       "\\item 'gato1'\n",
       "\\item 'gato2'\n",
       "\\item 'perro1'\n",
       "\\end{enumerate*}\n",
       "\n",
       "\\end{description}\n"
      ],
      "text/markdown": [
       "$Name\n",
       ":   'Pepe'\n",
       "$Height\n",
       ":   '180'\n",
       "$Birth\n",
       ":   5-05-19\n",
       "$Pets\n",
       ":   1. 'gato1'\n",
       "2. 'gato2'\n",
       "3. 'perro1'\n",
       "\n",
       "\n",
       "\n",
       "\n",
       "\n"
      ],
      "text/plain": [
       "$Name\n",
       "[1] \"Pepe\"\n",
       "\n",
       "$Height\n",
       "[1] \"180\"\n",
       "\n",
       "$Birth\n",
       "[1] \"5-05-19\"\n",
       "\n",
       "$Pets\n",
       "[1] \"gato1\"  \"gato2\"  \"perro1\"\n"
      ]
     },
     "metadata": {},
     "output_type": "display_data"
    },
    {
     "data": {
      "text/html": [
       "'Pepes pets, by dollar'"
      ],
      "text/latex": [
       "'Pepes pets, by dollar'"
      ],
      "text/markdown": [
       "'Pepes pets, by dollar'"
      ],
      "text/plain": [
       "[1] \"Pepes pets, by dollar\""
      ]
     },
     "metadata": {},
     "output_type": "display_data"
    },
    {
     "data": {
      "text/html": [
       "<style>\n",
       ".list-inline {list-style: none; margin:0; padding: 0}\n",
       ".list-inline>li {display: inline-block}\n",
       ".list-inline>li:not(:last-child)::after {content: \"\\00b7\"; padding: 0 .5ex}\n",
       "</style>\n",
       "<ol class=list-inline><li>'gato1'</li><li>'gato2'</li><li>'perro1'</li></ol>\n"
      ],
      "text/latex": [
       "\\begin{enumerate*}\n",
       "\\item 'gato1'\n",
       "\\item 'gato2'\n",
       "\\item 'perro1'\n",
       "\\end{enumerate*}\n"
      ],
      "text/markdown": [
       "1. 'gato1'\n",
       "2. 'gato2'\n",
       "3. 'perro1'\n",
       "\n",
       "\n"
      ],
      "text/plain": [
       "[1] \"gato1\"  \"gato2\"  \"perro1\""
      ]
     },
     "metadata": {},
     "output_type": "display_data"
    },
    {
     "data": {
      "text/html": [
       "'Pepes pets, by index'"
      ],
      "text/latex": [
       "'Pepes pets, by index'"
      ],
      "text/markdown": [
       "'Pepes pets, by index'"
      ],
      "text/plain": [
       "[1] \"Pepes pets, by index\""
      ]
     },
     "metadata": {},
     "output_type": "display_data"
    },
    {
     "data": {
      "text/html": [
       "<style>\n",
       ".list-inline {list-style: none; margin:0; padding: 0}\n",
       ".list-inline>li {display: inline-block}\n",
       ".list-inline>li:not(:last-child)::after {content: \"\\00b7\"; padding: 0 .5ex}\n",
       "</style>\n",
       "<ol class=list-inline><li>'gato1'</li><li>'gato2'</li><li>'perro1'</li></ol>\n"
      ],
      "text/latex": [
       "\\begin{enumerate*}\n",
       "\\item 'gato1'\n",
       "\\item 'gato2'\n",
       "\\item 'perro1'\n",
       "\\end{enumerate*}\n"
      ],
      "text/markdown": [
       "1. 'gato1'\n",
       "2. 'gato2'\n",
       "3. 'perro1'\n",
       "\n",
       "\n"
      ],
      "text/plain": [
       "[1] \"gato1\"  \"gato2\"  \"perro1\""
      ]
     },
     "metadata": {},
     "output_type": "display_data"
    }
   ],
   "source": [
    "pepe <- list(Name = \"Pepe\", Height = \"180\", Birth=as.Date(\"05/05/1955\"), Pets=c(\"gato1\", \"gato2\", \"perro1\" )) \n",
    "\n",
    "pepe\n",
    "\n",
    "# List can be indexed by the dollar symbol $\n",
    "\"Pepes pets, by dollar\"\n",
    "pepe$Pets\n",
    "\n",
    "# Or if the element does not have a name, by index using double [[]]\n",
    "\"Pepes pets, by index\"\n",
    "pepe[[4]]"
   ]
  },
  {
   "cell_type": "markdown",
   "metadata": {},
   "source": [
    "## The apply functions"
   ]
  },
  {
   "cell_type": "markdown",
   "metadata": {},
   "source": [
    "A popular alternative to loops in R are the apply functions:\n"
   ]
  },
  {
   "cell_type": "code",
   "execution_count": 25,
   "metadata": {},
   "outputs": [
    {
     "data": {
      "text/html": [
       "'How long is each word? we can use a loop'"
      ],
      "text/latex": [
       "'How long is each word? we can use a loop'"
      ],
      "text/markdown": [
       "'How long is each word? we can use a loop'"
      ],
      "text/plain": [
       "[1] \"How long is each word? we can use a loop\""
      ]
     },
     "metadata": {},
     "output_type": "display_data"
    },
    {
     "data": {
      "text/html": [
       "<style>\n",
       ".list-inline {list-style: none; margin:0; padding: 0}\n",
       ".list-inline>li {display: inline-block}\n",
       ".list-inline>li:not(:last-child)::after {content: \"\\00b7\"; padding: 0 .5ex}\n",
       "</style>\n",
       "<ol class=list-inline><li>7</li><li>7</li><li>7</li><li>7</li><li>6</li></ol>\n"
      ],
      "text/latex": [
       "\\begin{enumerate*}\n",
       "\\item 7\n",
       "\\item 7\n",
       "\\item 7\n",
       "\\item 7\n",
       "\\item 6\n",
       "\\end{enumerate*}\n"
      ],
      "text/markdown": [
       "1. 7\n",
       "2. 7\n",
       "3. 7\n",
       "4. 7\n",
       "5. 6\n",
       "\n",
       "\n"
      ],
      "text/plain": [
       "[1] 7 7 7 7 6"
      ]
     },
     "metadata": {},
     "output_type": "display_data"
    },
    {
     "data": {
      "text/html": [
       "'lapply applies the nchar function on each element and returns a list'"
      ],
      "text/latex": [
       "'lapply applies the nchar function on each element and returns a list'"
      ],
      "text/markdown": [
       "'lapply applies the nchar function on each element and returns a list'"
      ],
      "text/plain": [
       "[1] \"lapply applies the nchar function on each element and returns a list\""
      ]
     },
     "metadata": {},
     "output_type": "display_data"
    },
    {
     "data": {
      "text/html": [
       "<ol>\n",
       "\t<li>7</li>\n",
       "\t<li>7</li>\n",
       "\t<li>7</li>\n",
       "\t<li>7</li>\n",
       "\t<li>6</li>\n",
       "</ol>\n"
      ],
      "text/latex": [
       "\\begin{enumerate}\n",
       "\\item 7\n",
       "\\item 7\n",
       "\\item 7\n",
       "\\item 7\n",
       "\\item 6\n",
       "\\end{enumerate}\n"
      ],
      "text/markdown": [
       "1. 7\n",
       "2. 7\n",
       "3. 7\n",
       "4. 7\n",
       "5. 6\n",
       "\n",
       "\n"
      ],
      "text/plain": [
       "[[1]]\n",
       "[1] 7\n",
       "\n",
       "[[2]]\n",
       "[1] 7\n",
       "\n",
       "[[3]]\n",
       "[1] 7\n",
       "\n",
       "[[4]]\n",
       "[1] 7\n",
       "\n",
       "[[5]]\n",
       "[1] 6\n"
      ]
     },
     "metadata": {},
     "output_type": "display_data"
    },
    {
     "data": {
      "text/html": [
       "'we can finally turn the list into a vector, is we want, and get the same result as the loop'"
      ],
      "text/latex": [
       "'we can finally turn the list into a vector, is we want, and get the same result as the loop'"
      ],
      "text/markdown": [
       "'we can finally turn the list into a vector, is we want, and get the same result as the loop'"
      ],
      "text/plain": [
       "[1] \"we can finally turn the list into a vector, is we want, and get the same result as the loop\""
      ]
     },
     "metadata": {},
     "output_type": "display_data"
    },
    {
     "data": {
      "text/html": [
       "<style>\n",
       ".list-inline {list-style: none; margin:0; padding: 0}\n",
       ".list-inline>li {display: inline-block}\n",
       ".list-inline>li:not(:last-child)::after {content: \"\\00b7\"; padding: 0 .5ex}\n",
       "</style>\n",
       "<ol class=list-inline><li>7</li><li>7</li><li>7</li><li>7</li><li>6</li></ol>\n"
      ],
      "text/latex": [
       "\\begin{enumerate*}\n",
       "\\item 7\n",
       "\\item 7\n",
       "\\item 7\n",
       "\\item 7\n",
       "\\item 6\n",
       "\\end{enumerate*}\n"
      ],
      "text/markdown": [
       "1. 7\n",
       "2. 7\n",
       "3. 7\n",
       "4. 7\n",
       "5. 6\n",
       "\n",
       "\n"
      ],
      "text/plain": [
       "[1] 7 7 7 7 6"
      ]
     },
     "metadata": {},
     "output_type": "display_data"
    }
   ],
   "source": [
    "fruits <- list(\"mangoes\", \"bananas\", \"peaches\",\"oranges\", \"apples\")\n",
    "\n",
    "\"How long is each word? we can use a loop\"\n",
    "l <- c()\n",
    "for(x in fruits)\n",
    "    l <- c(l, nchar(x))\n",
    "l\n",
    "    \n",
    "\"lapply applies the nchar function on each element and returns a list\"\n",
    "l <- lapply(fruits, nchar)\n",
    "l\n",
    "    \n",
    "\"we can finally turn the list into a vector, is we want, and get the same result as the loop\"\n",
    "unlist(lapply(fruits, nchar))"
   ]
  },
  {
   "cell_type": "markdown",
   "metadata": {},
   "source": [
    "### apply's anonymous function\n",
    "\n",
    "if the function to apply is more complex, you can specify it directly"
   ]
  },
  {
   "cell_type": "code",
   "execution_count": 26,
   "metadata": {},
   "outputs": [
    {
     "data": {
      "text/html": [
       "'check which words are of 7 characters'"
      ],
      "text/latex": [
       "'check which words are of 7 characters'"
      ],
      "text/markdown": [
       "'check which words are of 7 characters'"
      ],
      "text/plain": [
       "[1] \"check which words are of 7 characters\""
      ]
     },
     "metadata": {},
     "output_type": "display_data"
    },
    {
     "data": {
      "text/html": [
       "<ol>\n",
       "\t<li>TRUE</li>\n",
       "\t<li>TRUE</li>\n",
       "\t<li>TRUE</li>\n",
       "\t<li>TRUE</li>\n",
       "\t<li>FALSE</li>\n",
       "</ol>\n"
      ],
      "text/latex": [
       "\\begin{enumerate}\n",
       "\\item TRUE\n",
       "\\item TRUE\n",
       "\\item TRUE\n",
       "\\item TRUE\n",
       "\\item FALSE\n",
       "\\end{enumerate}\n"
      ],
      "text/markdown": [
       "1. TRUE\n",
       "2. TRUE\n",
       "3. TRUE\n",
       "4. TRUE\n",
       "5. FALSE\n",
       "\n",
       "\n"
      ],
      "text/plain": [
       "[[1]]\n",
       "[1] TRUE\n",
       "\n",
       "[[2]]\n",
       "[1] TRUE\n",
       "\n",
       "[[3]]\n",
       "[1] TRUE\n",
       "\n",
       "[[4]]\n",
       "[1] TRUE\n",
       "\n",
       "[[5]]\n",
       "[1] FALSE\n"
      ]
     },
     "metadata": {},
     "output_type": "display_data"
    }
   ],
   "source": [
    "fruits <- list(\"mangoes\", \"bananas\", \"peaches\",\"oranges\", \"apples\")\n",
    "\n",
    "\"check which words are of 7 characters\"\n",
    "lapply(fruits, function(x) if(nchar(x) == 7) return (T) else return (F) )\n",
    "    \n",
    "# The previous function is \"anonymous\", because it is only visible inside the apply function.\n",
    "# But you can specify an external function, especially if is very long\n",
    "    "
   ]
  },
  {
   "cell_type": "markdown",
   "metadata": {},
   "source": [
    "### sapply\n",
    "\n",
    "lapply is good when the result is heterogeneous (different types) and so it has to be stored into a list. If the result is homogeous like in previous example, we can use sapply, which \"simplifies\" lapply and directly return a vector"
   ]
  },
  {
   "cell_type": "code",
   "execution_count": 27,
   "metadata": {},
   "outputs": [
    {
     "data": {
      "text/html": [
       "'sapply is straightforward if the results is of the same type'"
      ],
      "text/latex": [
       "'sapply is straightforward if the results is of the same type'"
      ],
      "text/markdown": [
       "'sapply is straightforward if the results is of the same type'"
      ],
      "text/plain": [
       "[1] \"sapply is straightforward if the results is of the same type\""
      ]
     },
     "metadata": {},
     "output_type": "display_data"
    },
    {
     "data": {
      "text/html": [
       "<style>\n",
       ".list-inline {list-style: none; margin:0; padding: 0}\n",
       ".list-inline>li {display: inline-block}\n",
       ".list-inline>li:not(:last-child)::after {content: \"\\00b7\"; padding: 0 .5ex}\n",
       "</style>\n",
       "<ol class=list-inline><li>7</li><li>7</li><li>7</li><li>7</li><li>6</li></ol>\n"
      ],
      "text/latex": [
       "\\begin{enumerate*}\n",
       "\\item 7\n",
       "\\item 7\n",
       "\\item 7\n",
       "\\item 7\n",
       "\\item 6\n",
       "\\end{enumerate*}\n"
      ],
      "text/markdown": [
       "1. 7\n",
       "2. 7\n",
       "3. 7\n",
       "4. 7\n",
       "5. 6\n",
       "\n",
       "\n"
      ],
      "text/plain": [
       "[1] 7 7 7 7 6"
      ]
     },
     "metadata": {},
     "output_type": "display_data"
    }
   ],
   "source": [
    "fruits <- list(\"mangoes\", \"bananas\", \"peaches\",\"oranges\", \"apples\")\n",
    "\n",
    "\"sapply is straightforward if the results is of the same type\"\n",
    "sapply(fruits, nchar)"
   ]
  },
  {
   "cell_type": "markdown",
   "metadata": {},
   "source": [
    "*warning: if sapply cannot simplify the result into a vector, it will return a list just like lapply * <br>\n",
    " <br>"
   ]
  },
  {
   "cell_type": "code",
   "execution_count": 28,
   "metadata": {},
   "outputs": [
    {
     "data": {
      "text/html": [
       "<ol>\n",
       "\t<li><style>\n",
       ".list-inline {list-style: none; margin:0; padding: 0}\n",
       ".list-inline>li {display: inline-block}\n",
       ".list-inline>li:not(:last-child)::after {content: \"\\00b7\"; padding: 0 .5ex}\n",
       "</style>\n",
       "<ol class=list-inline><li>'m'</li><li>'a'</li><li>'n'</li><li>'g'</li><li>'o'</li><li>'e'</li><li>'s'</li></ol>\n",
       "</li>\n",
       "\t<li><style>\n",
       ".list-inline {list-style: none; margin:0; padding: 0}\n",
       ".list-inline>li {display: inline-block}\n",
       ".list-inline>li:not(:last-child)::after {content: \"\\00b7\"; padding: 0 .5ex}\n",
       "</style>\n",
       "<ol class=list-inline><li>'b'</li><li>'a'</li><li>'n'</li><li>'a'</li><li>'n'</li><li>'a'</li><li>'s'</li></ol>\n",
       "</li>\n",
       "\t<li><style>\n",
       ".list-inline {list-style: none; margin:0; padding: 0}\n",
       ".list-inline>li {display: inline-block}\n",
       ".list-inline>li:not(:last-child)::after {content: \"\\00b7\"; padding: 0 .5ex}\n",
       "</style>\n",
       "<ol class=list-inline><li>'p'</li><li>'e'</li><li>'a'</li><li>'c'</li><li>'h'</li><li>'e'</li><li>'s'</li></ol>\n",
       "</li>\n",
       "\t<li><style>\n",
       ".list-inline {list-style: none; margin:0; padding: 0}\n",
       ".list-inline>li {display: inline-block}\n",
       ".list-inline>li:not(:last-child)::after {content: \"\\00b7\"; padding: 0 .5ex}\n",
       "</style>\n",
       "<ol class=list-inline><li>'o'</li><li>'r'</li><li>'a'</li><li>'n'</li><li>'g'</li><li>'e'</li><li>'s'</li></ol>\n",
       "</li>\n",
       "\t<li><style>\n",
       ".list-inline {list-style: none; margin:0; padding: 0}\n",
       ".list-inline>li {display: inline-block}\n",
       ".list-inline>li:not(:last-child)::after {content: \"\\00b7\"; padding: 0 .5ex}\n",
       "</style>\n",
       "<ol class=list-inline><li>'a'</li><li>'p'</li><li>'p'</li><li>'l'</li><li>'e'</li><li>'s'</li></ol>\n",
       "</li>\n",
       "</ol>\n"
      ],
      "text/latex": [
       "\\begin{enumerate}\n",
       "\\item \\begin{enumerate*}\n",
       "\\item 'm'\n",
       "\\item 'a'\n",
       "\\item 'n'\n",
       "\\item 'g'\n",
       "\\item 'o'\n",
       "\\item 'e'\n",
       "\\item 's'\n",
       "\\end{enumerate*}\n",
       "\n",
       "\\item \\begin{enumerate*}\n",
       "\\item 'b'\n",
       "\\item 'a'\n",
       "\\item 'n'\n",
       "\\item 'a'\n",
       "\\item 'n'\n",
       "\\item 'a'\n",
       "\\item 's'\n",
       "\\end{enumerate*}\n",
       "\n",
       "\\item \\begin{enumerate*}\n",
       "\\item 'p'\n",
       "\\item 'e'\n",
       "\\item 'a'\n",
       "\\item 'c'\n",
       "\\item 'h'\n",
       "\\item 'e'\n",
       "\\item 's'\n",
       "\\end{enumerate*}\n",
       "\n",
       "\\item \\begin{enumerate*}\n",
       "\\item 'o'\n",
       "\\item 'r'\n",
       "\\item 'a'\n",
       "\\item 'n'\n",
       "\\item 'g'\n",
       "\\item 'e'\n",
       "\\item 's'\n",
       "\\end{enumerate*}\n",
       "\n",
       "\\item \\begin{enumerate*}\n",
       "\\item 'a'\n",
       "\\item 'p'\n",
       "\\item 'p'\n",
       "\\item 'l'\n",
       "\\item 'e'\n",
       "\\item 's'\n",
       "\\end{enumerate*}\n",
       "\n",
       "\\end{enumerate}\n"
      ],
      "text/markdown": [
       "1. 1. 'm'\n",
       "2. 'a'\n",
       "3. 'n'\n",
       "4. 'g'\n",
       "5. 'o'\n",
       "6. 'e'\n",
       "7. 's'\n",
       "\n",
       "\n",
       "\n",
       "2. 1. 'b'\n",
       "2. 'a'\n",
       "3. 'n'\n",
       "4. 'a'\n",
       "5. 'n'\n",
       "6. 'a'\n",
       "7. 's'\n",
       "\n",
       "\n",
       "\n",
       "3. 1. 'p'\n",
       "2. 'e'\n",
       "3. 'a'\n",
       "4. 'c'\n",
       "5. 'h'\n",
       "6. 'e'\n",
       "7. 's'\n",
       "\n",
       "\n",
       "\n",
       "4. 1. 'o'\n",
       "2. 'r'\n",
       "3. 'a'\n",
       "4. 'n'\n",
       "5. 'g'\n",
       "6. 'e'\n",
       "7. 's'\n",
       "\n",
       "\n",
       "\n",
       "5. 1. 'a'\n",
       "2. 'p'\n",
       "3. 'p'\n",
       "4. 'l'\n",
       "5. 'e'\n",
       "6. 's'\n",
       "\n",
       "\n",
       "\n",
       "\n",
       "\n"
      ],
      "text/plain": [
       "[[1]]\n",
       "[1] \"m\" \"a\" \"n\" \"g\" \"o\" \"e\" \"s\"\n",
       "\n",
       "[[2]]\n",
       "[1] \"b\" \"a\" \"n\" \"a\" \"n\" \"a\" \"s\"\n",
       "\n",
       "[[3]]\n",
       "[1] \"p\" \"e\" \"a\" \"c\" \"h\" \"e\" \"s\"\n",
       "\n",
       "[[4]]\n",
       "[1] \"o\" \"r\" \"a\" \"n\" \"g\" \"e\" \"s\"\n",
       "\n",
       "[[5]]\n",
       "[1] \"a\" \"p\" \"p\" \"l\" \"e\" \"s\"\n"
      ]
     },
     "metadata": {},
     "output_type": "display_data"
    },
    {
     "data": {
      "text/html": [
       "'list'"
      ],
      "text/latex": [
       "'list'"
      ],
      "text/markdown": [
       "'list'"
      ],
      "text/plain": [
       "[1] \"list\""
      ]
     },
     "metadata": {},
     "output_type": "display_data"
    }
   ],
   "source": [
    "fruits <- list(\"mangoes\", \"bananas\", \"peaches\",\"oranges\", \"apples\")\n",
    "\n",
    "# split each word into its character. There it no way to contrain the result into a vector, so sapply will return a list\"\n",
    "l <- sapply(fruits, function(x) strsplit(x, split = \"\"))\n",
    "l\n",
    "class(l)"
   ]
  },
  {
   "cell_type": "markdown",
   "metadata": {},
   "source": [
    "### the apply family"
   ]
  },
  {
   "cell_type": "markdown",
   "metadata": {},
   "source": [
    "- lapply iterates over list and vector, apply a specific functions for each element and returns a list of results\n",
    "- sapply is similar to lapply but tries to compress the result into a vector. If used wrongly can return wierd results\n",
    "- vapply only iterates over vectors and requires to specify the type of return value. It can be safer and faster than sapply\n",
    "- rapply recursively iterate over nested lists: list(..., list(list(), list()...)...)\n",
    "- mapply apply a function for each element of same-length vectors: mapply(sum, 1:3, 1:3, 1:3) -> 3 6 9\n",
    "- tapply apply a function based on grouping define by a factor (see next section)\n",
    "\n",
    "For more informations: https://ademos.people.uic.edu/Chapter4.html"
   ]
  },
  {
   "cell_type": "markdown",
   "metadata": {},
   "source": [
    "## Factors\n",
    "\n",
    "Factor a categorical variables. They can be very useful when we want to group together elements of vectors, lists data frames....\n",
    "\n",
    "\n"
   ]
  },
  {
   "cell_type": "code",
   "execution_count": 29,
   "metadata": {
    "scrolled": true
   },
   "outputs": [
    {
     "data": {
      "text/html": [
       "'the vector'"
      ],
      "text/latex": [
       "'the vector'"
      ],
      "text/markdown": [
       "'the vector'"
      ],
      "text/plain": [
       "[1] \"the vector\""
      ]
     },
     "metadata": {},
     "output_type": "display_data"
    },
    {
     "data": {
      "text/html": [
       "<style>\n",
       ".list-inline {list-style: none; margin:0; padding: 0}\n",
       ".list-inline>li {display: inline-block}\n",
       ".list-inline>li:not(:last-child)::after {content: \"\\00b7\"; padding: 0 .5ex}\n",
       "</style>\n",
       "<ol class=list-inline><li>'apple'</li><li>'apple'</li><li>'orange'</li><li>'orange'</li><li>'apple'</li></ol>\n"
      ],
      "text/latex": [
       "\\begin{enumerate*}\n",
       "\\item 'apple'\n",
       "\\item 'apple'\n",
       "\\item 'orange'\n",
       "\\item 'orange'\n",
       "\\item 'apple'\n",
       "\\end{enumerate*}\n"
      ],
      "text/markdown": [
       "1. 'apple'\n",
       "2. 'apple'\n",
       "3. 'orange'\n",
       "4. 'orange'\n",
       "5. 'apple'\n",
       "\n",
       "\n"
      ],
      "text/plain": [
       "[1] \"apple\"  \"apple\"  \"orange\" \"orange\" \"apple\" "
      ]
     },
     "metadata": {},
     "output_type": "display_data"
    },
    {
     "data": {
      "text/html": [
       "'the factor'"
      ],
      "text/latex": [
       "'the factor'"
      ],
      "text/markdown": [
       "'the factor'"
      ],
      "text/plain": [
       "[1] \"the factor\""
      ]
     },
     "metadata": {},
     "output_type": "display_data"
    },
    {
     "data": {
      "text/html": [
       "<style>\n",
       ".list-inline {list-style: none; margin:0; padding: 0}\n",
       ".list-inline>li {display: inline-block}\n",
       ".list-inline>li:not(:last-child)::after {content: \"\\00b7\"; padding: 0 .5ex}\n",
       "</style>\n",
       "<ol class=list-inline><li>apple</li><li>apple</li><li>orange</li><li>orange</li><li>apple</li></ol>\n",
       "\n",
       "<details>\n",
       "\t<summary style=display:list-item;cursor:pointer>\n",
       "\t\t<strong>Levels</strong>:\n",
       "\t</summary>\n",
       "\t<style>\n",
       "\t.list-inline {list-style: none; margin:0; padding: 0}\n",
       "\t.list-inline>li {display: inline-block}\n",
       "\t.list-inline>li:not(:last-child)::after {content: \"\\00b7\"; padding: 0 .5ex}\n",
       "\t</style>\n",
       "\t<ol class=list-inline><li>'apple'</li><li>'orange'</li></ol>\n",
       "</details>"
      ],
      "text/latex": [
       "\\begin{enumerate*}\n",
       "\\item apple\n",
       "\\item apple\n",
       "\\item orange\n",
       "\\item orange\n",
       "\\item apple\n",
       "\\end{enumerate*}\n",
       "\n",
       "\\emph{Levels}: \\begin{enumerate*}\n",
       "\\item 'apple'\n",
       "\\item 'orange'\n",
       "\\end{enumerate*}\n"
      ],
      "text/markdown": [
       "1. apple\n",
       "2. apple\n",
       "3. orange\n",
       "4. orange\n",
       "5. apple\n",
       "\n",
       "\n",
       "\n",
       "**Levels**: 1. 'apple'\n",
       "2. 'orange'\n",
       "\n",
       "\n"
      ],
      "text/plain": [
       "[1] apple  apple  orange orange apple \n",
       "Levels: apple orange"
      ]
     },
     "metadata": {},
     "output_type": "display_data"
    },
    {
     "data": {
      "text/html": [
       "<style>\n",
       ".list-inline {list-style: none; margin:0; padding: 0}\n",
       ".list-inline>li {display: inline-block}\n",
       ".list-inline>li:not(:last-child)::after {content: \"\\00b7\"; padding: 0 .5ex}\n",
       "</style>\n",
       "<ol class=list-inline><li>1</li><li>2</li><li>3</li><li>4</li><li>5</li><li>5</li><li>7</li></ol>\n"
      ],
      "text/latex": [
       "\\begin{enumerate*}\n",
       "\\item 1\n",
       "\\item 2\n",
       "\\item 3\n",
       "\\item 4\n",
       "\\item 5\n",
       "\\item 5\n",
       "\\item 7\n",
       "\\end{enumerate*}\n"
      ],
      "text/markdown": [
       "1. 1\n",
       "2. 2\n",
       "3. 3\n",
       "4. 4\n",
       "5. 5\n",
       "6. 5\n",
       "7. 7\n",
       "\n",
       "\n"
      ],
      "text/plain": [
       "[1] 1 2 3 4 5 5 7"
      ]
     },
     "metadata": {},
     "output_type": "display_data"
    },
    {
     "data": {
      "text/html": [
       "<style>\n",
       ".list-inline {list-style: none; margin:0; padding: 0}\n",
       ".list-inline>li {display: inline-block}\n",
       ".list-inline>li:not(:last-child)::after {content: \"\\00b7\"; padding: 0 .5ex}\n",
       "</style>\n",
       "<ol class=list-inline><li>1</li><li>2</li><li>3</li><li>4</li><li>5</li><li>5</li><li>7</li></ol>\n",
       "\n",
       "<details>\n",
       "\t<summary style=display:list-item;cursor:pointer>\n",
       "\t\t<strong>Levels</strong>:\n",
       "\t</summary>\n",
       "\t<style>\n",
       "\t.list-inline {list-style: none; margin:0; padding: 0}\n",
       "\t.list-inline>li {display: inline-block}\n",
       "\t.list-inline>li:not(:last-child)::after {content: \"\\00b7\"; padding: 0 .5ex}\n",
       "\t</style>\n",
       "\t<ol class=list-inline><li>'1'</li><li>'2'</li><li>'3'</li><li>'4'</li><li>'5'</li><li>'7'</li></ol>\n",
       "</details>"
      ],
      "text/latex": [
       "\\begin{enumerate*}\n",
       "\\item 1\n",
       "\\item 2\n",
       "\\item 3\n",
       "\\item 4\n",
       "\\item 5\n",
       "\\item 5\n",
       "\\item 7\n",
       "\\end{enumerate*}\n",
       "\n",
       "\\emph{Levels}: \\begin{enumerate*}\n",
       "\\item '1'\n",
       "\\item '2'\n",
       "\\item '3'\n",
       "\\item '4'\n",
       "\\item '5'\n",
       "\\item '7'\n",
       "\\end{enumerate*}\n"
      ],
      "text/markdown": [
       "1. 1\n",
       "2. 2\n",
       "3. 3\n",
       "4. 4\n",
       "5. 5\n",
       "6. 5\n",
       "7. 7\n",
       "\n",
       "\n",
       "\n",
       "**Levels**: 1. '1'\n",
       "2. '2'\n",
       "3. '3'\n",
       "4. '4'\n",
       "5. '5'\n",
       "6. '7'\n",
       "\n",
       "\n"
      ],
      "text/plain": [
       "[1] 1 2 3 4 5 5 7\n",
       "Levels: 1 2 3 4 5 7"
      ]
     },
     "metadata": {},
     "output_type": "display_data"
    }
   ],
   "source": [
    "# a normal vector\n",
    "fruits <- c(\"apple\", \"apple\", \"orange\", \"orange\", \"apple\")\n",
    "\n",
    "# create a vector out of it\n",
    "fruits_factor <- factor(fruits)\n",
    "\n",
    "\"the vector\"\n",
    "fruits\n",
    "\"the factor\"\n",
    "fruits_factor\n",
    "\n",
    "# a normal vector\n",
    "numbers <- c(1, 2, 3, 4, 5, 5, 7)\n",
    "\n",
    "# create a vector out of it\n",
    "numbers_factor <- factor(numbers)\n",
    "\n",
    "numbers\n",
    "numbers_factor\n"
   ]
  },
  {
   "cell_type": "markdown",
   "metadata": {},
   "source": [
    "notice the difference, \"fruits\" is just a vector of strings, \"fruits_factor\" is a factor, a vector of categories. \"Levels\" shows you the categories contained in the factor.\n",
    "The second factor has been created from a vector of numbers, as you can see, R created a factor of categories as with the fruit vector. *It does not matter what type is used to create a factor, equal element will correspond to a single category*\n",
    "\n",
    "\n",
    "Why do we need factors? \n",
    "Factors are needed to tell R which elements belongs to the same group. For example, let's see the **tapply** function:\n"
   ]
  },
  {
   "cell_type": "code",
   "execution_count": 30,
   "metadata": {},
   "outputs": [
    {
     "data": {
      "text/html": [
       "<style>\n",
       ".list-inline {list-style: none; margin:0; padding: 0}\n",
       ".list-inline>li {display: inline-block}\n",
       ".list-inline>li:not(:last-child)::after {content: \"\\00b7\"; padding: 0 .5ex}\n",
       "</style>\n",
       "<ol class=list-inline><li>2</li><li>3</li><li>15</li><li>4</li><li>18</li></ol>\n"
      ],
      "text/latex": [
       "\\begin{enumerate*}\n",
       "\\item 2\n",
       "\\item 3\n",
       "\\item 15\n",
       "\\item 4\n",
       "\\item 18\n",
       "\\end{enumerate*}\n"
      ],
      "text/markdown": [
       "1. 2\n",
       "2. 3\n",
       "3. 15\n",
       "4. 4\n",
       "5. 18\n",
       "\n",
       "\n"
      ],
      "text/plain": [
       "[1]  2  3 15  4 18"
      ]
     },
     "metadata": {},
     "output_type": "display_data"
    },
    {
     "data": {
      "text/html": [
       "<style>\n",
       ".dl-inline {width: auto; margin:0; padding: 0}\n",
       ".dl-inline>dt, .dl-inline>dd {float: none; width: auto; display: inline-block}\n",
       ".dl-inline>dt::after {content: \":\\0020\"; padding-right: .5ex}\n",
       ".dl-inline>dt:not(:first-of-type) {padding-left: .5ex}\n",
       "</style><dl class=dl-inline><dt>apple</dt><dd>2.5</dd><dt>orange</dt><dd>4</dd><dt>pineapple</dt><dd>16.5</dd></dl>\n"
      ],
      "text/latex": [
       "\\begin{description*}\n",
       "\\item[apple] 2.5\n",
       "\\item[orange] 4\n",
       "\\item[pineapple] 16.5\n",
       "\\end{description*}\n"
      ],
      "text/markdown": [
       "apple\n",
       ":   2.5orange\n",
       ":   4pineapple\n",
       ":   16.5\n",
       "\n"
      ],
      "text/plain": [
       "    apple    orange pineapple \n",
       "      2.5       4.0      16.5 "
      ]
     },
     "metadata": {},
     "output_type": "display_data"
    }
   ],
   "source": [
    "# let's say we have 5 fruits....\n",
    "\n",
    "# the vector of fruit types\n",
    "fruits <- c(\"apple\", \"apple\", \"pineapple\", \"orange\", \"pineapple\")\n",
    "\n",
    "# the size of each fruit\n",
    "sizes <- c(2, 3, 15, 4, 18)\n",
    "\n",
    "# How can we get the average of each TYPE of fruit?\n",
    "\n",
    "# sapply is useless\n",
    "sapply(sizes, mean)\n",
    "\n",
    "# tapply get the mean for each group!\n",
    "tapply(X = sizes, INDEX = factor(fruits), FUN = mean)\n",
    "\n"
   ]
  },
  {
   "cell_type": "markdown",
   "metadata": {},
   "source": [
    "## Example: of goats and cars\n",
    "\n",
    "<img src=\"montyhallproblem.png\">"
   ]
  },
  {
   "cell_type": "markdown",
   "metadata": {},
   "source": [
    "The monty hall problem is loosely based on the American television game show from the '60s. The contestant is presented with 3 doors: one contains a valuable car, and the other two hid goats. The contestant has to choose a door and try to win the prize. However:\n",
    "\n",
    "- after choosing a door, the door is not inmediately revealed\n",
    "- the host will instead open one of the two remeaining doors, **always** revealing a goat (the host knows what is behind each door)\n",
    "- the contestant is therefore left with two remaining doors, the chosen one and the alternative\n",
    "- the contestant is offered the choice to keep the original door or to switch to the alternative\n",
    "\n",
    "What do you think is the best option for the contestant?  to stay or to switch? Or is does not matter? *(hint: think of a similar game but with MANY doors, one cars a many goats)*"
   ]
  },
  {
   "cell_type": "markdown",
   "metadata": {},
   "source": [
    "Let's try to solve the problem by simulation:"
   ]
  },
  {
   "cell_type": "code",
   "execution_count": 31,
   "metadata": {},
   "outputs": [
    {
     "data": {
      "text/plain": [
       "win_stay\n",
       "FALSE  TRUE \n",
       "   60    40 "
      ]
     },
     "metadata": {},
     "output_type": "display_data"
    },
    {
     "data": {
      "text/plain": [
       "win_switch\n",
       "FALSE  TRUE \n",
       "   40    60 "
      ]
     },
     "metadata": {},
     "output_type": "display_data"
    },
    {
     "data": {
      "image/png": "[encoded data removed]",
      "text/plain": [
       "plot without title"
      ]
     },
     "metadata": {
      "image/png": {
       "height": 420,
       "width": 420
      }
     },
     "output_type": "display_data"
    }
   ],
   "source": [
    "# iterations\n",
    "N <- 100\n",
    "\n",
    "# Solution with for loop\n",
    "doors <- c(\"A\", \"B\", \"C\")\n",
    "car <- vector(\"integer\", N)\n",
    "choice <- vector(\"integer\", N)\n",
    "monty <- vector(\"integer\", N)\n",
    "closed <- vector(\"integer\", N)\n",
    "win_stay <- vector(\"logical\", N)\n",
    "win_switch <- vector(\"logical\", N)\n",
    "for(i in 1:N) {\n",
    "  car[i] <- sample(x = doors, size = 1)\n",
    "  choice[i] <- sample(x = doors, size = 1)\n",
    "  monty[i] <- sample(x = doors[!doors %in% c(choice[i], car[i])], size = 1)\n",
    "  closed[i] <- doors[!doors %in% c(choice[i], monty[i])]\n",
    "  win_stay[i] <- car[i] == choice[i]\n",
    "  win_switch[i] <- car[i] == closed[i]\n",
    "}\n",
    "\n",
    "\n",
    "table(win_stay)\n",
    "table(win_switch)\n",
    "\n",
    "matplot(y = cbind(cumsum(win_stay), cumsum(win_switch)), col=c(\"red\", \"blue\"), pch=16, ylab=\"Number of wins\", xlab=\"Iteration\", ylim=c(0, 100), cex=2, cex.axis=2,  cex.lab=2)\n",
    "legend(x = 10, y = 90, c(\"Stay\", \"Switch\"),  col=c(\"red\", \"blue\"), pch = 16, cex=2)\n"
   ]
  },
  {
   "cell_type": "code",
   "execution_count": 32,
   "metadata": {},
   "outputs": [],
   "source": [
    "# Solution with vectorizations functions\n",
    "doors <- c(\"A\", \"B\", \"C\")\n",
    "car <- sample(x = doors, size = N, replace = T)\n",
    "choice <- sample(x = doors, size = N, replace = T)\n",
    "monty <- sapply(1:N, function(i) sample(x = doors[!doors %in% c(choice[i], car[i])], size = 1))\n",
    "closed <- sapply(1:N, function(i) doors[!doors %in% c(choice[i], monty[i])])\n",
    "win_stay <- car == choice\n",
    "win_switch <- car == closed"
   ]
  }
 ],
 "metadata": {
  "kernelspec": {
   "display_name": "R",
   "language": "R",
   "name": "ir"
  },
  "language_info": {
   "codemirror_mode": "r",
   "file_extension": ".r",
   "mimetype": "text/x-r-source",
   "name": "R",
   "pygments_lexer": "r",
   "version": "4.0.2"
  }
 },
 "nbformat": 4,
 "nbformat_minor": 4
}
