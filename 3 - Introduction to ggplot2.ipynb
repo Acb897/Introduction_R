{
 "cells": [
  {
   "cell_type": "markdown",
   "metadata": {},
   "source": [
    "# ggplot2\n",
    "\n",
    "The package ggplot2 provides an easy way to make nice plots ready for publication.\n",
    "\n",
    "ggplot2 is part of a bigger package, tidyverse, which include other packages from manipulating data frames, reading from files etc... https://www.tidyverse.org/"
   ]
  }
 ],
 "metadata": {
  "kernelspec": {
   "display_name": "R",
   "language": "R",
   "name": "ir"
  },
  "language_info": {
   "codemirror_mode": "r",
   "file_extension": ".r",
   "mimetype": "text/x-r-source",
   "name": "R",
   "pygments_lexer": "r",
   "version": "4.0.2"
  }
 },
 "nbformat": 4,
 "nbformat_minor": 2
}
